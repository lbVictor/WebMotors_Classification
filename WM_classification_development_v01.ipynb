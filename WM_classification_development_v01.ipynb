{
 "cells": [
  {
   "cell_type": "markdown",
   "id": "3cce8f4b",
   "metadata": {},
   "source": [
    "![image](https://user-images.githubusercontent.com/85720162/182034807-7f59fb8c-3c15-4c6b-a008-c6675526dba6.png)"
   ]
  },
  {
   "cell_type": "markdown",
   "id": "96164e35",
   "metadata": {},
   "source": [
    "**BUSINESS PROBLEM**"
   ]
  },
  {
   "cell_type": "markdown",
   "id": "5c2ee7a0",
   "metadata": {},
   "source": [
    "A Webmotors dispõe de diversos produtos digitais para solucionar problemas durante a compra, utilização e venda de um veículo, sendo um de seus principais e mais conhecidos o classificado. Para o classificado utilizamos o lead model para monetizar nosso produto. Um lead é uma demonstração de interesse de um comprador para um vendedor. Navegue no nosso portal, pesquise um veículo e abra a página de um anúncio para se familiarizar com os conceitos.\n",
    "Nesta planilha (autoexplicativa, veja a aba de dicionário para entender) você encontra alguns números fictícios dos nossos clientes.\n",
    "\n",
    "**Desafio**\n",
    "\n",
    "A fim de melhorar o desempenho dos anúncios, determine ao menos uma alternativa para potencializar o recebimento de leads dos anúncios. Para tal, elaboramos um roteiro em duas partes para te guiar neste desafio:\n",
    "\n",
    "**Parte 1:** Faça uma exploração dos dados e mostre como a quantidade de leads varia de acordo com as outras variáveis (por exemplo, a marca ou o modelo afetam o recebimento de leads? O comportamento observado é o mesmo em todas as cidades?).\n",
    "\n",
    "**Parte 2:** Proponha um modelo para determinar se um anúncio receberá lead. Que outras informações, as quais você não teve acesso, poderiam ajudar a chegar a conclusões melhores?\n",
    "\n",
    "**Desafio Bônus:** Proponha um modelo para determinar a quantidade de leads que um anúncio irá receber\n",
    "\n",
    "\n",
    "\n",
    "\n",
    "\n",
    "\n",
    "\n",
    "\n"
   ]
  },
  {
   "cell_type": "markdown",
   "id": "a06eb962",
   "metadata": {},
   "source": [
    "**O projeto foi realizado de forma cíclica (metodologia CRISP-DM), sendo cada iteração uma melhoria do que foi desenvolvido anteriormente.**\n",
    "\n",
    "**Esse notebook representa o primeiro ciclo da solução.**"
   ]
  },
  {
   "cell_type": "markdown",
   "id": "339d348e",
   "metadata": {},
   "source": [
    "# 1. IMPORTS"
   ]
  },
  {
   "cell_type": "code",
   "execution_count": 33,
   "id": "91594e80",
   "metadata": {
    "ExecuteTime": {
     "end_time": "2022-07-31T14:18:16.811368Z",
     "start_time": "2022-07-31T14:18:16.795479Z"
    }
   },
   "outputs": [],
   "source": [
    "import pickle\n",
    "import sys\n",
    "\n",
    "import pandas            as pd\n",
    "import numpy             as np\n",
    "import seaborn           as sns\n",
    "import matplotlib.pyplot as plt\n",
    "\n",
    "import lightgbm\n",
    "\n",
    "from sklearn.metrics         import mean_squared_error, ConfusionMatrixDisplay, confusion_matrix, precision_score, recall_score, accuracy_score, f1_score, roc_auc_score, classification_report, roc_curve\n",
    "from sklearn.model_selection import RepeatedKFold, cross_val_score, StratifiedKFold, train_test_split\n",
    "from sklearn.preprocessing   import MinMaxScaler, StandardScaler, RobustScaler\n",
    "from sklearn.ensemble        import RandomForestClassifier\n",
    "from sklearn.naive_bayes     import GaussianNB\n",
    "\n",
    "from imblearn import combine as c\n",
    "from skopt    import BayesSearchCV"
   ]
  },
  {
   "cell_type": "markdown",
   "id": "e3e612bb",
   "metadata": {},
   "source": [
    "## 1.1. Helper Functions & Configurations"
   ]
  },
  {
   "cell_type": "code",
   "execution_count": 34,
   "id": "d38ba528",
   "metadata": {
    "ExecuteTime": {
     "end_time": "2022-07-31T14:18:17.118689Z",
     "start_time": "2022-07-31T14:18:17.100888Z"
    }
   },
   "outputs": [],
   "source": [
    "# utilizado na seção Data Description & Cleaning -> Check Data Types\n",
    "def bin_change(feature):\n",
    "    \n",
    "    # mapeia dados categóricos(S/N) em 0 e 1\n",
    "    feature = feature.map({'S':1, 'N':0})\n",
    "    \n",
    "    return feature"
   ]
  },
  {
   "cell_type": "code",
   "execution_count": 35,
   "id": "49528623",
   "metadata": {
    "ExecuteTime": {
     "end_time": "2022-07-31T14:18:17.271948Z",
     "start_time": "2022-07-31T14:18:17.254503Z"
    }
   },
   "outputs": [],
   "source": [
    "# utilizado na seção Machine learning -> CV Comparison\n",
    "def get_size(model):\n",
    "    \n",
    "    # salva em pickle\n",
    "    obj = pickle.dumps(model)\n",
    "    \n",
    "    # obtem o tamanho em bytes\n",
    "    bytes_size = sys.getsizeof(obj)\n",
    "    \n",
    "    # converte para megabytes\n",
    "    model_size = bytes_size / (1024*1024)\n",
    "    \n",
    "    return model_size"
   ]
  },
  {
   "cell_type": "code",
   "execution_count": 36,
   "id": "e5f2bc5f",
   "metadata": {
    "ExecuteTime": {
     "end_time": "2022-07-31T14:18:17.440353Z",
     "start_time": "2022-07-31T14:18:17.419045Z"
    }
   },
   "outputs": [],
   "source": [
    "# Utilizado na seção Machine Learning\n",
    "def compute_metrics(y_true, y_pred, model_name):\n",
    "        \n",
    "        # calcular métrica\n",
    "        prc_score = f\"{precision_score(y_true, y_pred):.3f}\"\n",
    "        rcl_score = f\"{recall_score(y_true, y_pred):.3f}\"\n",
    "        f1s_score = f\"{f1_score(y_true, y_pred):.3f}\"\n",
    "        roc_score = f\"{roc_auc_score(y_true, y_pred):.3f}\"\n",
    "        acc_score = f\"{accuracy_score(y_true, y_pred):.3f}\"\n",
    "        \n",
    "        # exibir em um Data Frame\n",
    "        df_metrics = pd.DataFrame({'Model': model_name,\n",
    "                                   'Precision (Avg+Std)': prc_score,\n",
    "                                   'Recall (Avg+Std)': rcl_score,\n",
    "                                   'F1-Score (Avg+Std)': f1s_score,\n",
    "                                   'ROC-AUC (Avg+Std)': roc_score,\n",
    "                                   'Accuracy (Avg+Std)': acc_score}, index=[0])\n",
    "        \n",
    "        return df_metrics"
   ]
  },
  {
   "cell_type": "code",
   "execution_count": 37,
   "id": "c49d3683",
   "metadata": {
    "ExecuteTime": {
     "end_time": "2022-07-31T14:18:17.579362Z",
     "start_time": "2022-07-31T14:18:17.567445Z"
    }
   },
   "outputs": [],
   "source": [
    "# Utilizado na seção Machine Learning -> Cross-Validation\n",
    "def cross_validation(model, model_name, X, y, cv):\n",
    "        \n",
    "        # realizar cv e calcular métrica\n",
    "        prc_cv = cross_val_score(model, X, y, cv=cv, scoring='precision', n_jobs=-1)\n",
    "        rcl_cv = cross_val_score(model, X, y, cv=cv, scoring='recall', n_jobs=-1)\n",
    "        f1s_cv = cross_val_score(model, X, y, cv=cv, scoring='f1', n_jobs=-1)\n",
    "        roc_cv = cross_val_score(model, X, y, cv=cv, scoring='roc_auc', n_jobs=-1)\n",
    "        acc_cv = cross_val_score(model, X, y, cv=cv, scoring='accuracy', n_jobs=-1)\n",
    "        \n",
    "        # formatar\n",
    "        prc = f\"{prc_cv.mean():.3f} +/- %{prc_cv.std():.3f}\"      \n",
    "        rcl = f\"{rcl_cv.mean():.3f} +/- %{rcl_cv.std():.3f}\"\n",
    "        f1s = f\"{f1s_cv.mean():.3f} +/- %{f1s_cv.std():.3f}\"\n",
    "        roc = f\"{roc_cv.mean():.3f} +/- %{roc_cv.std():.3f}\"\n",
    "        acc = f\"{acc_cv.mean():.3f} +/- %{acc_cv.std():.3f}\"\n",
    "        \n",
    "        # exibir em um Data Frame\n",
    "        df_cv = pd.DataFrame({'Model': model_name,\n",
    "                              'Precision (Avg+Std)': prc,\n",
    "                              'Recall (Avg+Std)': rcl,\n",
    "                              'F1-Score (Avg+Std)': f1s,\n",
    "                              'ROC-AUC (Avg+Std)': roc,\n",
    "                              'Accuracy (Avg+Std)': acc}, index=[0])\n",
    "        \n",
    "        return df_cv"
   ]
  },
  {
   "cell_type": "code",
   "execution_count": 38,
   "id": "482c2bcf",
   "metadata": {
    "ExecuteTime": {
     "end_time": "2022-07-31T14:18:17.779020Z",
     "start_time": "2022-07-31T14:18:17.766099Z"
    }
   },
   "outputs": [],
   "source": [
    "# Utilizado na seção Hyperparameter Fine Tuning & Evaluate\n",
    "def plot_cm(y_true, y_pred, model):\n",
    "    \n",
    "    # cria a matrix de confusão\n",
    "    cm = confusion_matrix(y_true, \n",
    "                          y_pred, \n",
    "                          labels=model.classes_)\n",
    "    \n",
    "    # formata e exibe\n",
    "    disp = ConfusionMatrixDisplay(confusion_matrix=cm, \n",
    "                                  display_labels=model.classes_)\n",
    "    disp.plot()\n",
    "    \n",
    "    return plt.show()"
   ]
  },
  {
   "cell_type": "code",
   "execution_count": 39,
   "id": "f063b529",
   "metadata": {
    "ExecuteTime": {
     "end_time": "2022-07-31T14:18:17.870474Z",
     "start_time": "2022-07-31T14:18:17.860630Z"
    }
   },
   "outputs": [],
   "source": [
    "# formatar 2 casas decimais\n",
    "pd.options.display.float_format = '{:.2f}'.format"
   ]
  },
  {
   "cell_type": "markdown",
   "id": "d5bed219",
   "metadata": {},
   "source": [
    "## 1.2. Load Data"
   ]
  },
  {
   "cell_type": "code",
   "execution_count": 40,
   "id": "e7d22778",
   "metadata": {
    "ExecuteTime": {
     "end_time": "2022-07-31T14:18:18.622574Z",
     "start_time": "2022-07-31T14:18:18.439247Z"
    }
   },
   "outputs": [
    {
     "data": {
      "text/html": [
       "<div>\n",
       "<style scoped>\n",
       "    .dataframe tbody tr th:only-of-type {\n",
       "        vertical-align: middle;\n",
       "    }\n",
       "\n",
       "    .dataframe tbody tr th {\n",
       "        vertical-align: top;\n",
       "    }\n",
       "\n",
       "    .dataframe thead th {\n",
       "        text-align: right;\n",
       "    }\n",
       "</style>\n",
       "<table border=\"1\" class=\"dataframe\">\n",
       "  <thead>\n",
       "    <tr style=\"text-align: right;\">\n",
       "      <th></th>\n",
       "      <th>cod_anuncio</th>\n",
       "      <th>cod_cliente</th>\n",
       "      <th>cod_tipo_pessoa</th>\n",
       "      <th>prioridade</th>\n",
       "      <th>leads</th>\n",
       "      <th>views</th>\n",
       "      <th>cliques_telefone*</th>\n",
       "      <th>cod_marca_veiculo</th>\n",
       "      <th>cod_modelo_veiculo</th>\n",
       "      <th>cod_versao_veiculo</th>\n",
       "      <th>...</th>\n",
       "      <th>arquente</th>\n",
       "      <th>bancocouro</th>\n",
       "      <th>arcondic</th>\n",
       "      <th>abs</th>\n",
       "      <th>desembtras</th>\n",
       "      <th>travaeletr</th>\n",
       "      <th>vidroseletr</th>\n",
       "      <th>rodasliga</th>\n",
       "      <th>sensorchuva</th>\n",
       "      <th>sensorestacion</th>\n",
       "    </tr>\n",
       "  </thead>\n",
       "  <tbody>\n",
       "    <tr>\n",
       "      <th>0</th>\n",
       "      <td>2</td>\n",
       "      <td>7941</td>\n",
       "      <td>2</td>\n",
       "      <td>3</td>\n",
       "      <td>1</td>\n",
       "      <td>0</td>\n",
       "      <td>0</td>\n",
       "      <td>34</td>\n",
       "      <td>769</td>\n",
       "      <td>346932</td>\n",
       "      <td>...</td>\n",
       "      <td>NaN</td>\n",
       "      <td>NaN</td>\n",
       "      <td>NaN</td>\n",
       "      <td>NaN</td>\n",
       "      <td>NaN</td>\n",
       "      <td>NaN</td>\n",
       "      <td>NaN</td>\n",
       "      <td>NaN</td>\n",
       "      <td>NaN</td>\n",
       "      <td>NaN</td>\n",
       "    </tr>\n",
       "    <tr>\n",
       "      <th>1</th>\n",
       "      <td>6</td>\n",
       "      <td>1770</td>\n",
       "      <td>1</td>\n",
       "      <td>3</td>\n",
       "      <td>1</td>\n",
       "      <td>0</td>\n",
       "      <td>4</td>\n",
       "      <td>2</td>\n",
       "      <td>704</td>\n",
       "      <td>340148</td>\n",
       "      <td>...</td>\n",
       "      <td>S</td>\n",
       "      <td>N</td>\n",
       "      <td>N</td>\n",
       "      <td>S</td>\n",
       "      <td>N</td>\n",
       "      <td>S</td>\n",
       "      <td>S</td>\n",
       "      <td>N</td>\n",
       "      <td>N</td>\n",
       "      <td>N</td>\n",
       "    </tr>\n",
       "    <tr>\n",
       "      <th>2</th>\n",
       "      <td>8</td>\n",
       "      <td>709</td>\n",
       "      <td>1</td>\n",
       "      <td>3</td>\n",
       "      <td>4</td>\n",
       "      <td>0</td>\n",
       "      <td>11</td>\n",
       "      <td>30</td>\n",
       "      <td>1071</td>\n",
       "      <td>310713</td>\n",
       "      <td>...</td>\n",
       "      <td>S</td>\n",
       "      <td>N</td>\n",
       "      <td>S</td>\n",
       "      <td>S</td>\n",
       "      <td>S</td>\n",
       "      <td>S</td>\n",
       "      <td>S</td>\n",
       "      <td>S</td>\n",
       "      <td>N</td>\n",
       "      <td>N</td>\n",
       "    </tr>\n",
       "    <tr>\n",
       "      <th>3</th>\n",
       "      <td>13</td>\n",
       "      <td>9708</td>\n",
       "      <td>1</td>\n",
       "      <td>2</td>\n",
       "      <td>12</td>\n",
       "      <td>0</td>\n",
       "      <td>14</td>\n",
       "      <td>10</td>\n",
       "      <td>2028</td>\n",
       "      <td>341195</td>\n",
       "      <td>...</td>\n",
       "      <td>S</td>\n",
       "      <td>S</td>\n",
       "      <td>S</td>\n",
       "      <td>N</td>\n",
       "      <td>N</td>\n",
       "      <td>S</td>\n",
       "      <td>S</td>\n",
       "      <td>S</td>\n",
       "      <td>N</td>\n",
       "      <td>N</td>\n",
       "    </tr>\n",
       "    <tr>\n",
       "      <th>4</th>\n",
       "      <td>15</td>\n",
       "      <td>1363</td>\n",
       "      <td>1</td>\n",
       "      <td>2</td>\n",
       "      <td>8</td>\n",
       "      <td>0</td>\n",
       "      <td>11</td>\n",
       "      <td>12</td>\n",
       "      <td>805</td>\n",
       "      <td>332063</td>\n",
       "      <td>...</td>\n",
       "      <td>S</td>\n",
       "      <td>S</td>\n",
       "      <td>S</td>\n",
       "      <td>S</td>\n",
       "      <td>S</td>\n",
       "      <td>S</td>\n",
       "      <td>S</td>\n",
       "      <td>S</td>\n",
       "      <td>N</td>\n",
       "      <td>N</td>\n",
       "    </tr>\n",
       "  </tbody>\n",
       "</table>\n",
       "<p>5 rows × 41 columns</p>\n",
       "</div>"
      ],
      "text/plain": [
       "   cod_anuncio  cod_cliente  cod_tipo_pessoa  prioridade  leads  views  \\\n",
       "0            2         7941                2           3      1      0   \n",
       "1            6         1770                1           3      1      0   \n",
       "2            8          709                1           3      4      0   \n",
       "3           13         9708                1           2     12      0   \n",
       "4           15         1363                1           2      8      0   \n",
       "\n",
       "   cliques_telefone*  cod_marca_veiculo  cod_modelo_veiculo  \\\n",
       "0                  0                 34                 769   \n",
       "1                  4                  2                 704   \n",
       "2                 11                 30                1071   \n",
       "3                 14                 10                2028   \n",
       "4                 11                 12                 805   \n",
       "\n",
       "   cod_versao_veiculo  ...  arquente  bancocouro arcondic  abs  desembtras  \\\n",
       "0              346932  ...       NaN         NaN      NaN  NaN         NaN   \n",
       "1              340148  ...         S           N        N    S           N   \n",
       "2              310713  ...         S           N        S    S           S   \n",
       "3              341195  ...         S           S        S    N           N   \n",
       "4              332063  ...         S           S        S    S           S   \n",
       "\n",
       "   travaeletr  vidroseletr  rodasliga  sensorchuva  sensorestacion  \n",
       "0         NaN          NaN        NaN          NaN             NaN  \n",
       "1           S            S          N            N               N  \n",
       "2           S            S          S            N               N  \n",
       "3           S            S          S            N               N  \n",
       "4           S            S          S            N               N  \n",
       "\n",
       "[5 rows x 41 columns]"
      ]
     },
     "execution_count": 40,
     "metadata": {},
     "output_type": "execute_result"
    }
   ],
   "source": [
    "df_raw = pd.read_csv('Case 1 - dados.csv')\n",
    "df_raw.head()"
   ]
  },
  {
   "cell_type": "markdown",
   "id": "6f7163e3",
   "metadata": {},
   "source": [
    "# 2. DATA DESCRIPTION & CLEANING"
   ]
  },
  {
   "cell_type": "code",
   "execution_count": 41,
   "id": "1c76035b",
   "metadata": {
    "ExecuteTime": {
     "end_time": "2022-07-31T14:18:18.852917Z",
     "start_time": "2022-07-31T14:18:18.833548Z"
    }
   },
   "outputs": [],
   "source": [
    "df1 = df_raw.copy()"
   ]
  },
  {
   "cell_type": "markdown",
   "id": "96b5a6f9",
   "metadata": {},
   "source": [
    "## 2.1. Train & Test Split"
   ]
  },
  {
   "cell_type": "markdown",
   "id": "e3349946",
   "metadata": {},
   "source": [
    "O conjunto de dados será dividido em treino e teste, porém, vai ser utilizado o conjunto completo até a etapa da EDA. A partir da etapa do pré-processamento, o conjunto de treino será utilizado (formatado com as alterações realizadas nas etapas anteriores)."
   ]
  },
  {
   "cell_type": "code",
   "execution_count": 42,
   "id": "9bda0160",
   "metadata": {
    "ExecuteTime": {
     "end_time": "2022-07-31T14:18:19.715006Z",
     "start_time": "2022-07-31T14:18:19.683774Z"
    }
   },
   "outputs": [],
   "source": [
    "# Treino & Teste\n",
    "df_train, df_test = train_test_split(df1, test_size=0.2, random_state=42)"
   ]
  },
  {
   "cell_type": "code",
   "execution_count": 43,
   "id": "42627566",
   "metadata": {
    "ExecuteTime": {
     "end_time": "2022-07-31T14:18:20.298482Z",
     "start_time": "2022-07-31T14:18:19.873065Z"
    },
    "cell_style": "center",
    "hide_input": false
   },
   "outputs": [
    {
     "data": {
      "image/png": "[encoded data removed]",
      "text/plain": [
       "<Figure size 864x720 with 4 Axes>"
      ]
     },
     "metadata": {
      "needs_background": "light"
     },
     "output_type": "display_data"
    }
   ],
   "source": [
    "# definir tamanho dos plots\n",
    "plt.gcf().set_size_inches(12,10)\n",
    "\n",
    "# visualizar distribuição e frequência (transformação para binário)\n",
    "plt.subplot(2,2,1)\n",
    "plt.hist(df_train.leads, bins=60);\n",
    "plt.title('df_train Target Distribution')\n",
    "\n",
    "plt.subplot(2,2,2)\n",
    "plt.hist(np.where(df_train['leads'] > 0, 1, 0));\n",
    "plt.title('df_train Binary Target Frequency')\n",
    "\n",
    "plt.subplot(2,2,3)\n",
    "plt.hist(df_test.leads, bins=60);\n",
    "plt.title('df_test Target Distribution')\n",
    "\n",
    "plt.subplot(2,2,4)\n",
    "plt.hist(np.where(df_test['leads'] > 0, 1, 0));\n",
    "plt.title('df_test Binary Target Frequency');"
   ]
  },
  {
   "cell_type": "markdown",
   "id": "2310bb1c",
   "metadata": {
    "ExecuteTime": {
     "end_time": "2022-07-25T16:08:04.852853Z",
     "start_time": "2022-07-25T16:08:04.837464Z"
    }
   },
   "source": [
    "## 2.2. Features Description"
   ]
  },
  {
   "cell_type": "code",
   "execution_count": 44,
   "id": "7e055ddb",
   "metadata": {
    "ExecuteTime": {
     "end_time": "2022-07-31T14:18:20.329305Z",
     "start_time": "2022-07-31T14:18:20.301534Z"
    }
   },
   "outputs": [
    {
     "data": {
      "text/html": [
       "<div>\n",
       "<style scoped>\n",
       "    .dataframe tbody tr th:only-of-type {\n",
       "        vertical-align: middle;\n",
       "    }\n",
       "\n",
       "    .dataframe tbody tr th {\n",
       "        vertical-align: top;\n",
       "    }\n",
       "\n",
       "    .dataframe thead th {\n",
       "        text-align: right;\n",
       "    }\n",
       "</style>\n",
       "<table border=\"1\" class=\"dataframe\">\n",
       "  <thead>\n",
       "    <tr style=\"text-align: right;\">\n",
       "      <th></th>\n",
       "      <th>attribute</th>\n",
       "      <th>description</th>\n",
       "    </tr>\n",
       "  </thead>\n",
       "  <tbody>\n",
       "    <tr>\n",
       "      <th>0</th>\n",
       "      <td>cod_anuncio</td>\n",
       "      <td>código do anúncio</td>\n",
       "    </tr>\n",
       "    <tr>\n",
       "      <th>1</th>\n",
       "      <td>cod_cliente</td>\n",
       "      <td>código do anunciante</td>\n",
       "    </tr>\n",
       "    <tr>\n",
       "      <th>2</th>\n",
       "      <td>cod_tipo_pessoa</td>\n",
       "      <td>tipo de anunciante: PF=1, PJ=2</td>\n",
       "    </tr>\n",
       "    <tr>\n",
       "      <th>3</th>\n",
       "      <td>prioridade</td>\n",
       "      <td>prioridade do anúncio (1=alta, 2-média, 3-baixa)</td>\n",
       "    </tr>\n",
       "    <tr>\n",
       "      <th>4</th>\n",
       "      <td>leads</td>\n",
       "      <td>tota de propostas recebidas</td>\n",
       "    </tr>\n",
       "    <tr>\n",
       "      <th>5</th>\n",
       "      <td>views</td>\n",
       "      <td>quantidade de visualizações no anúncio</td>\n",
       "    </tr>\n",
       "    <tr>\n",
       "      <th>6</th>\n",
       "      <td>cliques_telefone</td>\n",
       "      <td>quantidade de cliques no telefone anunciado</td>\n",
       "    </tr>\n",
       "    <tr>\n",
       "      <th>7</th>\n",
       "      <td>cod_marca_veiculo</td>\n",
       "      <td>código da marca do veículo</td>\n",
       "    </tr>\n",
       "    <tr>\n",
       "      <th>8</th>\n",
       "      <td>cod_modelo_veiculo</td>\n",
       "      <td>código do modelo veículo</td>\n",
       "    </tr>\n",
       "    <tr>\n",
       "      <th>9</th>\n",
       "      <td>cod_versao_veiculo</td>\n",
       "      <td>código da versão do veículo</td>\n",
       "    </tr>\n",
       "    <tr>\n",
       "      <th>10</th>\n",
       "      <td>ano_modelo</td>\n",
       "      <td>ano-modelo do veículo</td>\n",
       "    </tr>\n",
       "    <tr>\n",
       "      <th>11</th>\n",
       "      <td>cep_2dig</td>\n",
       "      <td>dois primeiros dígitos do cep do anunciante</td>\n",
       "    </tr>\n",
       "    <tr>\n",
       "      <th>12</th>\n",
       "      <td>uf_cidade</td>\n",
       "      <td>UF e cidade do anunciante</td>\n",
       "    </tr>\n",
       "    <tr>\n",
       "      <th>13</th>\n",
       "      <td>vlr_anuncio</td>\n",
       "      <td>valor do veículo no anúncio</td>\n",
       "    </tr>\n",
       "    <tr>\n",
       "      <th>14</th>\n",
       "      <td>qtd_fotos</td>\n",
       "      <td>quantidade de fotos no anúncio</td>\n",
       "    </tr>\n",
       "    <tr>\n",
       "      <th>15</th>\n",
       "      <td>km_veiculo</td>\n",
       "      <td>Kilometragem do veículo</td>\n",
       "    </tr>\n",
       "    <tr>\n",
       "      <th>16</th>\n",
       "      <td>vlr_mercado</td>\n",
       "      <td>valor de referência do veículo na praça</td>\n",
       "    </tr>\n",
       "    <tr>\n",
       "      <th>17</th>\n",
       "      <td>flg_unico_dono</td>\n",
       "      <td>indicador de único dono</td>\n",
       "    </tr>\n",
       "    <tr>\n",
       "      <th>18</th>\n",
       "      <td>flg_licenciado</td>\n",
       "      <td>indicador de licenciamento em dia</td>\n",
       "    </tr>\n",
       "    <tr>\n",
       "      <th>19</th>\n",
       "      <td>flg_ipva_pago</td>\n",
       "      <td>indicador de IPVA em dia</td>\n",
       "    </tr>\n",
       "    <tr>\n",
       "      <th>20</th>\n",
       "      <td>flg_todas_revisoes_concessionaria</td>\n",
       "      <td>indicador realização de todas as revisões na c...</td>\n",
       "    </tr>\n",
       "    <tr>\n",
       "      <th>21</th>\n",
       "      <td>flg_todas_revisoes_agenda_veiculo</td>\n",
       "      <td>indicador realização de todas as revisões prev...</td>\n",
       "    </tr>\n",
       "    <tr>\n",
       "      <th>22</th>\n",
       "      <td>flg_garantia_fabrica</td>\n",
       "      <td>indicador de veículo em garantia de fábrica</td>\n",
       "    </tr>\n",
       "    <tr>\n",
       "      <th>23</th>\n",
       "      <td>flg_blindado</td>\n",
       "      <td>indicador de blindagem</td>\n",
       "    </tr>\n",
       "    <tr>\n",
       "      <th>24</th>\n",
       "      <td>flg_aceita_troca</td>\n",
       "      <td>indicador de que o anunciante aceita troca</td>\n",
       "    </tr>\n",
       "    <tr>\n",
       "      <th>25</th>\n",
       "      <td>flg_adaptado_pcd</td>\n",
       "      <td>indicador de veículo adaptado para pessoa com ...</td>\n",
       "    </tr>\n",
       "    <tr>\n",
       "      <th>26</th>\n",
       "      <td>combustivel</td>\n",
       "      <td>especificação de combustível</td>\n",
       "    </tr>\n",
       "    <tr>\n",
       "      <th>27</th>\n",
       "      <td>cambio</td>\n",
       "      <td>especificação de câmbio</td>\n",
       "    </tr>\n",
       "    <tr>\n",
       "      <th>28</th>\n",
       "      <td>portas</td>\n",
       "      <td>número de portas</td>\n",
       "    </tr>\n",
       "    <tr>\n",
       "      <th>29</th>\n",
       "      <td>alarme</td>\n",
       "      <td>presença de alarme</td>\n",
       "    </tr>\n",
       "    <tr>\n",
       "      <th>30</th>\n",
       "      <td>airbag</td>\n",
       "      <td>presença de airbag</td>\n",
       "    </tr>\n",
       "    <tr>\n",
       "      <th>31</th>\n",
       "      <td>arquente</td>\n",
       "      <td>presença de ar quente</td>\n",
       "    </tr>\n",
       "    <tr>\n",
       "      <th>32</th>\n",
       "      <td>bancocouro</td>\n",
       "      <td>presença de banco de couro</td>\n",
       "    </tr>\n",
       "    <tr>\n",
       "      <th>33</th>\n",
       "      <td>arcondic</td>\n",
       "      <td>presença de ar condicionado</td>\n",
       "    </tr>\n",
       "    <tr>\n",
       "      <th>34</th>\n",
       "      <td>abs</td>\n",
       "      <td>presença de freio abs</td>\n",
       "    </tr>\n",
       "    <tr>\n",
       "      <th>35</th>\n",
       "      <td>desembtras</td>\n",
       "      <td>presença de desembaçador traseiro</td>\n",
       "    </tr>\n",
       "    <tr>\n",
       "      <th>36</th>\n",
       "      <td>travaeletr</td>\n",
       "      <td>presença de travas elétricas</td>\n",
       "    </tr>\n",
       "    <tr>\n",
       "      <th>37</th>\n",
       "      <td>vidroseletr</td>\n",
       "      <td>presença de vidros elétricos</td>\n",
       "    </tr>\n",
       "    <tr>\n",
       "      <th>38</th>\n",
       "      <td>rodasliga</td>\n",
       "      <td>presença de rodas de liga-leve</td>\n",
       "    </tr>\n",
       "    <tr>\n",
       "      <th>39</th>\n",
       "      <td>sensorchuva</td>\n",
       "      <td>presença de sensor de chuva</td>\n",
       "    </tr>\n",
       "    <tr>\n",
       "      <th>40</th>\n",
       "      <td>sensorestacion</td>\n",
       "      <td>presença de sensor de estacionamento</td>\n",
       "    </tr>\n",
       "  </tbody>\n",
       "</table>\n",
       "</div>"
      ],
      "text/plain": [
       "                            attribute  \\\n",
       "0                         cod_anuncio   \n",
       "1                         cod_cliente   \n",
       "2                     cod_tipo_pessoa   \n",
       "3                          prioridade   \n",
       "4                               leads   \n",
       "5                               views   \n",
       "6                    cliques_telefone   \n",
       "7                   cod_marca_veiculo   \n",
       "8                  cod_modelo_veiculo   \n",
       "9                  cod_versao_veiculo   \n",
       "10                         ano_modelo   \n",
       "11                           cep_2dig   \n",
       "12                          uf_cidade   \n",
       "13                        vlr_anuncio   \n",
       "14                          qtd_fotos   \n",
       "15                         km_veiculo   \n",
       "16                        vlr_mercado   \n",
       "17                     flg_unico_dono   \n",
       "18                     flg_licenciado   \n",
       "19                      flg_ipva_pago   \n",
       "20  flg_todas_revisoes_concessionaria   \n",
       "21  flg_todas_revisoes_agenda_veiculo   \n",
       "22               flg_garantia_fabrica   \n",
       "23                       flg_blindado   \n",
       "24                   flg_aceita_troca   \n",
       "25                   flg_adaptado_pcd   \n",
       "26                        combustivel   \n",
       "27                             cambio   \n",
       "28                             portas   \n",
       "29                             alarme   \n",
       "30                             airbag   \n",
       "31                           arquente   \n",
       "32                         bancocouro   \n",
       "33                           arcondic   \n",
       "34                                abs   \n",
       "35                         desembtras   \n",
       "36                         travaeletr   \n",
       "37                        vidroseletr   \n",
       "38                          rodasliga   \n",
       "39                        sensorchuva   \n",
       "40                     sensorestacion   \n",
       "\n",
       "                                          description  \n",
       "0                                   código do anúncio  \n",
       "1                                código do anunciante  \n",
       "2                      tipo de anunciante: PF=1, PJ=2  \n",
       "3    prioridade do anúncio (1=alta, 2-média, 3-baixa)  \n",
       "4                         tota de propostas recebidas  \n",
       "5              quantidade de visualizações no anúncio  \n",
       "6         quantidade de cliques no telefone anunciado  \n",
       "7                          código da marca do veículo  \n",
       "8                            código do modelo veículo  \n",
       "9                         código da versão do veículo  \n",
       "10                              ano-modelo do veículo  \n",
       "11        dois primeiros dígitos do cep do anunciante  \n",
       "12                          UF e cidade do anunciante  \n",
       "13                        valor do veículo no anúncio  \n",
       "14                     quantidade de fotos no anúncio  \n",
       "15                            Kilometragem do veículo  \n",
       "16            valor de referência do veículo na praça  \n",
       "17                            indicador de único dono  \n",
       "18                  indicador de licenciamento em dia  \n",
       "19                           indicador de IPVA em dia  \n",
       "20  indicador realização de todas as revisões na c...  \n",
       "21  indicador realização de todas as revisões prev...  \n",
       "22        indicador de veículo em garantia de fábrica  \n",
       "23                             indicador de blindagem  \n",
       "24         indicador de que o anunciante aceita troca  \n",
       "25  indicador de veículo adaptado para pessoa com ...  \n",
       "26                       especificação de combustível  \n",
       "27                            especificação de câmbio  \n",
       "28                                   número de portas  \n",
       "29                                 presença de alarme  \n",
       "30                                 presença de airbag  \n",
       "31                              presença de ar quente  \n",
       "32                         presença de banco de couro  \n",
       "33                        presença de ar condicionado  \n",
       "34                              presença de freio abs  \n",
       "35                  presença de desembaçador traseiro  \n",
       "36                       presença de travas elétricas  \n",
       "37                       presença de vidros elétricos  \n",
       "38                     presença de rodas de liga-leve  \n",
       "39                        presença de sensor de chuva  \n",
       "40               presença de sensor de estacionamento  "
      ]
     },
     "execution_count": 44,
     "metadata": {},
     "output_type": "execute_result"
    }
   ],
   "source": [
    "f_description = pd.read_csv('Case 1 - dicionario.csv')\n",
    "f_description"
   ]
  },
  {
   "cell_type": "markdown",
   "id": "38346421",
   "metadata": {},
   "source": [
    "## 2.3. Ckeck Data Dimensions"
   ]
  },
  {
   "cell_type": "code",
   "execution_count": 45,
   "id": "a31f7ec2",
   "metadata": {
    "ExecuteTime": {
     "end_time": "2022-07-31T14:18:20.605725Z",
     "start_time": "2022-07-31T14:18:20.597198Z"
    }
   },
   "outputs": [
    {
     "name": "stdout",
     "output_type": "stream",
     "text": [
      "Quantidade de linhas: 48665\n",
      "Quantidade de colunas: 41\n"
     ]
    }
   ],
   "source": [
    "print('Quantidade de linhas:', df1.shape[0])\n",
    "print('Quantidade de colunas:', df1.shape[1])"
   ]
  },
  {
   "cell_type": "markdown",
   "id": "19c17bc7",
   "metadata": {},
   "source": [
    "## 2.4. Check Duplicated Data"
   ]
  },
  {
   "cell_type": "code",
   "execution_count": 46,
   "id": "5d4ab7fa",
   "metadata": {
    "ExecuteTime": {
     "end_time": "2022-07-31T14:18:21.112232Z",
     "start_time": "2022-07-31T14:18:21.013865Z"
    }
   },
   "outputs": [
    {
     "data": {
      "text/plain": [
       "0"
      ]
     },
     "execution_count": 46,
     "metadata": {},
     "output_type": "execute_result"
    }
   ],
   "source": [
    "df1.duplicated().sum()"
   ]
  },
  {
   "cell_type": "markdown",
   "id": "84c565cb",
   "metadata": {},
   "source": [
    "## 2.5. Check NA Values"
   ]
  },
  {
   "cell_type": "code",
   "execution_count": 47,
   "id": "56b0b20f",
   "metadata": {
    "ExecuteTime": {
     "end_time": "2022-07-31T14:18:21.495356Z",
     "start_time": "2022-07-31T14:18:21.407879Z"
    }
   },
   "outputs": [
    {
     "data": {
      "text/plain": [
       "cod_anuncio                             0\n",
       "cod_cliente                             0\n",
       "cod_tipo_pessoa                         0\n",
       "prioridade                              0\n",
       "leads                                   0\n",
       "views                                   0\n",
       "cliques_telefone*                       0\n",
       "cod_marca_veiculo                       0\n",
       "cod_modelo_veiculo                      0\n",
       "cod_versao_veiculo                      0\n",
       "ano_modelo                              0\n",
       "cep_2dig                                0\n",
       "uf_cidade                               0\n",
       "vlr_anuncio                             0\n",
       "qtd_fotos                               0\n",
       "km_veiculo                              0\n",
       "vlr_mercado                          6217\n",
       "flg_unico_dono                          0\n",
       "flg_licenciado                          0\n",
       "flg_ipva_pago                         312\n",
       "flg_todas_revisoes_concessionaria     312\n",
       "flg_todas_revisoes_agenda_veiculo       0\n",
       "flg_garantia_fabrica                  312\n",
       "flg_blindado                            0\n",
       "flg_aceita_troca                        0\n",
       "flg_adaptado_pcd                      312\n",
       "combustivel                             1\n",
       "cambio                                  1\n",
       "portas                                  1\n",
       "alarme                                  1\n",
       "airbag                                  8\n",
       "arquente                                1\n",
       "bancocouro                              1\n",
       "arcondic                                1\n",
       "abs                                     1\n",
       "desembtras                              1\n",
       "travaeletr                              1\n",
       "vidroseletr                             1\n",
       "rodasliga                               1\n",
       "sensorchuva                             1\n",
       "sensorestacion                          1\n",
       "dtype: int64"
      ]
     },
     "execution_count": 47,
     "metadata": {},
     "output_type": "execute_result"
    }
   ],
   "source": [
    "df1.isna().sum()"
   ]
  },
  {
   "cell_type": "markdown",
   "id": "08aa9dbb",
   "metadata": {},
   "source": [
    "**Os missging values serão excluídos no primeiro ciclo, sendo tratados individualmente nos próximos ciclos.**"
   ]
  },
  {
   "cell_type": "code",
   "execution_count": 48,
   "id": "7a3257d5",
   "metadata": {
    "ExecuteTime": {
     "end_time": "2022-07-31T14:18:22.096675Z",
     "start_time": "2022-07-31T14:18:21.968240Z"
    }
   },
   "outputs": [],
   "source": [
    "# df para análise exploratória\n",
    "df1.dropna(inplace=True)\n",
    "\n",
    "# df para modelagem\n",
    "df_train.dropna(inplace=True)"
   ]
  },
  {
   "cell_type": "markdown",
   "id": "c2dd88a0",
   "metadata": {},
   "source": [
    "## 2.6. Check Data Types"
   ]
  },
  {
   "cell_type": "code",
   "execution_count": 49,
   "id": "ae7e842a",
   "metadata": {
    "ExecuteTime": {
     "end_time": "2022-07-31T14:18:22.961578Z",
     "start_time": "2022-07-31T14:18:22.942225Z"
    }
   },
   "outputs": [],
   "source": [
    "# # df para análise exploratória\n",
    "# Alterar de float para int:\n",
    "df1['flg_ipva_pago'] = df1['flg_ipva_pago'].astype('int64')                 \n",
    "df1['flg_todas_revisoes_concessionaria'] = df1['flg_todas_revisoes_concessionaria'].astype('int64')\n",
    "df1['flg_garantia_fabrica'] = df1['flg_garantia_fabrica'].astype('int64')\n",
    "df1['flg_adaptado_pcd'] = df1['flg_adaptado_pcd'].astype('int64')\n",
    "\n",
    "# # df para análise exploratória\n",
    "# Alterar de float para int:\n",
    "df_train['flg_ipva_pago'] = df_train['flg_ipva_pago'].astype('int64')                 \n",
    "df_train['flg_todas_revisoes_concessionaria'] = df_train['flg_todas_revisoes_concessionaria'].astype('int64')\n",
    "df_train['flg_garantia_fabrica'] = df_train['flg_garantia_fabrica'].astype('int64')\n",
    "df_train['flg_adaptado_pcd'] = df_train['flg_adaptado_pcd'].astype('int64')"
   ]
  },
  {
   "cell_type": "markdown",
   "id": "b73c935c",
   "metadata": {},
   "source": [
    "## 2.7. Descriptive Statistics"
   ]
  },
  {
   "cell_type": "code",
   "execution_count": 50,
   "id": "b86adacf",
   "metadata": {
    "ExecuteTime": {
     "end_time": "2022-07-31T14:18:23.406423Z",
     "start_time": "2022-07-31T14:18:23.356305Z"
    }
   },
   "outputs": [],
   "source": [
    "# numérico\n",
    "num_attributes = df1[['leads', 'views', 'cliques_telefone*', 'ano_modelo', 'cep_2dig', 'vlr_anuncio', 'qtd_fotos',\n",
    "                      'km_veiculo', 'vlr_mercado', 'portas']]\n",
    "\n",
    "# categórico\n",
    "aux = df1.drop(columns=num_attributes.columns)\n",
    "cat_attributes = aux.drop(columns='cod_anuncio')"
   ]
  },
  {
   "cell_type": "markdown",
   "id": "bbaa5297",
   "metadata": {},
   "source": [
    "### 2.7.1. Numerical Features"
   ]
  },
  {
   "cell_type": "code",
   "execution_count": 51,
   "id": "e00d9a9f",
   "metadata": {
    "ExecuteTime": {
     "end_time": "2022-07-31T14:18:24.143550Z",
     "start_time": "2022-07-31T14:18:24.101339Z"
    },
    "scrolled": true
   },
   "outputs": [
    {
     "data": {
      "text/html": [
       "<div>\n",
       "<style scoped>\n",
       "    .dataframe tbody tr th:only-of-type {\n",
       "        vertical-align: middle;\n",
       "    }\n",
       "\n",
       "    .dataframe tbody tr th {\n",
       "        vertical-align: top;\n",
       "    }\n",
       "\n",
       "    .dataframe thead th {\n",
       "        text-align: right;\n",
       "    }\n",
       "</style>\n",
       "<table border=\"1\" class=\"dataframe\">\n",
       "  <thead>\n",
       "    <tr style=\"text-align: right;\">\n",
       "      <th></th>\n",
       "      <th>attributes</th>\n",
       "      <th>min</th>\n",
       "      <th>max</th>\n",
       "      <th>range</th>\n",
       "      <th>mean</th>\n",
       "      <th>median</th>\n",
       "      <th>std</th>\n",
       "      <th>skew</th>\n",
       "      <th>kurtosis</th>\n",
       "    </tr>\n",
       "  </thead>\n",
       "  <tbody>\n",
       "    <tr>\n",
       "      <th>0</th>\n",
       "      <td>leads</td>\n",
       "      <td>0.00</td>\n",
       "      <td>364.00</td>\n",
       "      <td>364.00</td>\n",
       "      <td>4.20</td>\n",
       "      <td>1.00</td>\n",
       "      <td>11.58</td>\n",
       "      <td>10.17</td>\n",
       "      <td>183.94</td>\n",
       "    </tr>\n",
       "    <tr>\n",
       "      <th>1</th>\n",
       "      <td>views</td>\n",
       "      <td>0.00</td>\n",
       "      <td>4872.00</td>\n",
       "      <td>4872.00</td>\n",
       "      <td>410.62</td>\n",
       "      <td>204.00</td>\n",
       "      <td>601.17</td>\n",
       "      <td>3.32</td>\n",
       "      <td>13.87</td>\n",
       "    </tr>\n",
       "    <tr>\n",
       "      <th>2</th>\n",
       "      <td>cliques_telefone*</td>\n",
       "      <td>0.00</td>\n",
       "      <td>457.00</td>\n",
       "      <td>457.00</td>\n",
       "      <td>7.06</td>\n",
       "      <td>4.00</td>\n",
       "      <td>10.98</td>\n",
       "      <td>8.65</td>\n",
       "      <td>167.45</td>\n",
       "    </tr>\n",
       "    <tr>\n",
       "      <th>3</th>\n",
       "      <td>ano_modelo</td>\n",
       "      <td>1951.00</td>\n",
       "      <td>2019.00</td>\n",
       "      <td>68.00</td>\n",
       "      <td>2013.50</td>\n",
       "      <td>2014.00</td>\n",
       "      <td>3.48</td>\n",
       "      <td>-2.13</td>\n",
       "      <td>15.69</td>\n",
       "    </tr>\n",
       "    <tr>\n",
       "      <th>4</th>\n",
       "      <td>cep_2dig</td>\n",
       "      <td>1.00</td>\n",
       "      <td>99.00</td>\n",
       "      <td>98.00</td>\n",
       "      <td>38.40</td>\n",
       "      <td>22.00</td>\n",
       "      <td>33.59</td>\n",
       "      <td>0.50</td>\n",
       "      <td>-1.45</td>\n",
       "    </tr>\n",
       "    <tr>\n",
       "      <th>5</th>\n",
       "      <td>vlr_anuncio</td>\n",
       "      <td>4900.00</td>\n",
       "      <td>122000000.00</td>\n",
       "      <td>121995100.00</td>\n",
       "      <td>85192.09</td>\n",
       "      <td>39990.00</td>\n",
       "      <td>1555364.47</td>\n",
       "      <td>55.29</td>\n",
       "      <td>3372.11</td>\n",
       "    </tr>\n",
       "    <tr>\n",
       "      <th>6</th>\n",
       "      <td>qtd_fotos</td>\n",
       "      <td>0.00</td>\n",
       "      <td>20.00</td>\n",
       "      <td>20.00</td>\n",
       "      <td>6.68</td>\n",
       "      <td>8.00</td>\n",
       "      <td>2.13</td>\n",
       "      <td>-1.76</td>\n",
       "      <td>2.74</td>\n",
       "    </tr>\n",
       "    <tr>\n",
       "      <th>7</th>\n",
       "      <td>km_veiculo</td>\n",
       "      <td>0.00</td>\n",
       "      <td>2147483647.00</td>\n",
       "      <td>2147483647.00</td>\n",
       "      <td>284457.47</td>\n",
       "      <td>59454.00</td>\n",
       "      <td>18194404.20</td>\n",
       "      <td>98.13</td>\n",
       "      <td>10406.11</td>\n",
       "    </tr>\n",
       "    <tr>\n",
       "      <th>8</th>\n",
       "      <td>vlr_mercado</td>\n",
       "      <td>6292.84</td>\n",
       "      <td>1111215.64</td>\n",
       "      <td>1104922.80</td>\n",
       "      <td>52746.13</td>\n",
       "      <td>40653.47</td>\n",
       "      <td>41631.47</td>\n",
       "      <td>4.90</td>\n",
       "      <td>48.65</td>\n",
       "    </tr>\n",
       "    <tr>\n",
       "      <th>9</th>\n",
       "      <td>portas</td>\n",
       "      <td>0.00</td>\n",
       "      <td>4.00</td>\n",
       "      <td>4.00</td>\n",
       "      <td>3.78</td>\n",
       "      <td>4.00</td>\n",
       "      <td>0.74</td>\n",
       "      <td>-3.59</td>\n",
       "      <td>12.92</td>\n",
       "    </tr>\n",
       "  </tbody>\n",
       "</table>\n",
       "</div>"
      ],
      "text/plain": [
       "          attributes     min           max         range      mean   median  \\\n",
       "0              leads    0.00        364.00        364.00      4.20     1.00   \n",
       "1              views    0.00       4872.00       4872.00    410.62   204.00   \n",
       "2  cliques_telefone*    0.00        457.00        457.00      7.06     4.00   \n",
       "3         ano_modelo 1951.00       2019.00         68.00   2013.50  2014.00   \n",
       "4           cep_2dig    1.00         99.00         98.00     38.40    22.00   \n",
       "5        vlr_anuncio 4900.00  122000000.00  121995100.00  85192.09 39990.00   \n",
       "6          qtd_fotos    0.00         20.00         20.00      6.68     8.00   \n",
       "7         km_veiculo    0.00 2147483647.00 2147483647.00 284457.47 59454.00   \n",
       "8        vlr_mercado 6292.84    1111215.64    1104922.80  52746.13 40653.47   \n",
       "9             portas    0.00          4.00          4.00      3.78     4.00   \n",
       "\n",
       "          std  skew  kurtosis  \n",
       "0       11.58 10.17    183.94  \n",
       "1      601.17  3.32     13.87  \n",
       "2       10.98  8.65    167.45  \n",
       "3        3.48 -2.13     15.69  \n",
       "4       33.59  0.50     -1.45  \n",
       "5  1555364.47 55.29   3372.11  \n",
       "6        2.13 -1.76      2.74  \n",
       "7 18194404.20 98.13  10406.11  \n",
       "8    41631.47  4.90     48.65  \n",
       "9        0.74 -3.59     12.92  "
      ]
     },
     "execution_count": 51,
     "metadata": {},
     "output_type": "execute_result"
    }
   ],
   "source": [
    "# métricas de tendência central\n",
    "mean_     = pd.DataFrame(num_attributes.mean()).T\n",
    "median_   = pd.DataFrame(num_attributes.median()).T\n",
    "\n",
    "# métricas de dispersão\n",
    "min_      = pd.DataFrame(num_attributes.min()).T\n",
    "max_      = pd.DataFrame(num_attributes.max()).T\n",
    "range_    = pd.DataFrame(num_attributes.max() - num_attributes.min()).T\n",
    "std_      = pd.DataFrame(num_attributes.std()).T\n",
    "skew_     = pd.DataFrame(num_attributes.skew()).T\n",
    "kurtosis_ = pd.DataFrame(num_attributes.kurtosis()).T\n",
    "\n",
    "\n",
    "metrics = pd.concat([min_, max_, range_, mean_, median_, std_, skew_, kurtosis_]).T.reset_index()\n",
    "metrics.columns = ['attributes', 'min', 'max', 'range', 'mean', 'median', 'std', 'skew', 'kurtosis']\n",
    "metrics"
   ]
  },
  {
   "cell_type": "markdown",
   "id": "68d4352b",
   "metadata": {},
   "source": [
    "*Para o próximo ciclo, verificar o modelo dos veículos com 0 portas (analisar a possibilidade de mapear a quantidade de portas)"
   ]
  },
  {
   "cell_type": "markdown",
   "id": "cc115038",
   "metadata": {},
   "source": [
    "- **Excluir veiculos de 0 portas**\n",
    "- **Excluir anúncios com 0 views**"
   ]
  },
  {
   "cell_type": "markdown",
   "id": "873365ad",
   "metadata": {},
   "source": [
    "### 2.7.2. Categorical Features"
   ]
  },
  {
   "cell_type": "code",
   "execution_count": 52,
   "id": "9138d56d",
   "metadata": {
    "ExecuteTime": {
     "end_time": "2022-07-31T14:18:26.897429Z",
     "start_time": "2022-07-31T14:18:25.602934Z"
    }
   },
   "outputs": [
    {
     "data": {
      "image/png": "[encoded data removed]",
      "text/plain": [
       "<Figure size 1440x1800 with 16 Axes>"
      ]
     },
     "metadata": {
      "needs_background": "light"
     },
     "output_type": "display_data"
    }
   ],
   "source": [
    "# Frequência\n",
    "cat_attributes.hist();\n",
    "plt.gcf().set_size_inches(20,25)"
   ]
  },
  {
   "cell_type": "markdown",
   "id": "84442148",
   "metadata": {},
   "source": [
    "# 3. FEATURE ENGINEERING"
   ]
  },
  {
   "cell_type": "code",
   "execution_count": 53,
   "id": "ecb068bc",
   "metadata": {
    "ExecuteTime": {
     "end_time": "2022-07-31T14:18:27.513612Z",
     "start_time": "2022-07-31T14:18:27.500709Z"
    }
   },
   "outputs": [],
   "source": [
    "df2 = df1.copy()"
   ]
  },
  {
   "cell_type": "markdown",
   "id": "a1b47fab",
   "metadata": {},
   "source": [
    "## 3.1. MindMap"
   ]
  },
  {
   "cell_type": "markdown",
   "id": "58025cdc",
   "metadata": {},
   "source": [
    "**O MindMap é utilizado para relacionar as características de um determinado fenômeno e suas derivações.**\n",
    "\n",
    "Objetivo: \n",
    "\n",
    "    - Identificar features interessantes para serem analisadas (tanto para exploração como modelagem).\n",
    "    - Criar hipóteses de négocio que possam vir a gerar insights acionáveis.\n",
    "    - Conduzir a análise exploratória dos dados.\n",
    "    - Facilitar o cruzumento de informações para realizar o feature engineering."
   ]
  },
  {
   "attachments": {
    "image.png": {
     "image/png": "[encoded data removed]"
    }
   },
   "cell_type": "markdown",
   "id": "b7187a82",
   "metadata": {},
   "source": [
    "![image.png](attachment:image.png)"
   ]
  },
  {
   "cell_type": "markdown",
   "id": "e681eb7b",
   "metadata": {},
   "source": [
    "## 3.2. Hyphotesis Creation"
   ]
  },
  {
   "cell_type": "markdown",
   "id": "097f3714",
   "metadata": {},
   "source": [
    "### 3.2.1. Veículo"
   ]
  },
  {
   "cell_type": "markdown",
   "id": "297f8240",
   "metadata": {},
   "source": [
    "01. Veículos com IPVA pago correspondem a 70% dos anúncios com leads.\n",
    "03. Duas marcas de veículos correspondem a 60% dos anúncios com leads.\n",
    "04. Veículos com ano de fabricação inferior a 2010 geram até 20% dos leads.\n",
    "05. Veiculos brancos e pretos representam no mínimo 70% dos leads.\n",
    "06. Veiculos Flex correspondem a no mínimo 60% dos leads."
   ]
  },
  {
   "cell_type": "markdown",
   "id": "fee3ae08",
   "metadata": {},
   "source": [
    "### 3.2.2. Endereço"
   ]
  },
  {
   "cell_type": "markdown",
   "id": "5c4941a1",
   "metadata": {
    "ExecuteTime": {
     "end_time": "2022-07-30T04:24:04.791806Z",
     "start_time": "2022-07-30T04:24:04.760627Z"
    }
   },
   "source": [
    "06. São Paulo concentra 80% dos anúncios que possuem mais de 30 leads.\n",
    "08. Cidade do interior possuem no máximo 4 leads por anúncio."
   ]
  },
  {
   "cell_type": "markdown",
   "id": "f0d71724",
   "metadata": {},
   "source": [
    "### 3.2.3. Anúncio"
   ]
  },
  {
   "cell_type": "markdown",
   "id": "f0cfa355",
   "metadata": {},
   "source": [
    "08. A cada 10 fotos do veículo o anúncio aumenta 20% as chances de receber um lead.\n",
    "10. Anúncios com fotos de baixa qualidade representam no mínimo 70% dos que não recebem leads.\n",
    "11. A mediana da quantidade de fotos no anúncio é 2x maior para anúncios que receberam leads.\n",
    "11. Anúncios com menos de 5 fotos correspondem a no mínimo 70% dos que não recebem leads.\n",
    "13. Anúncios com fotos do interior do veículo aumentam em 50% as chances de receber um lead.\n",
    "14. Anúncios com valor do veículo inferior a 10% da tabela FIPE correspondem a 50% dos que recebem leads.\n",
    "15. Anúncios com descrição menor que 100 palavras correspondem a até 10% dos que recebem leads.\n",
    "16. Anúncios com mais de 1 mês correspondem a menos que 15% dos que recebem leads."
   ]
  },
  {
   "cell_type": "markdown",
   "id": "d71dfe5f",
   "metadata": {},
   "source": [
    "### 3.2.4. Anunciante"
   ]
  },
  {
   "cell_type": "markdown",
   "id": "56f309e7",
   "metadata": {},
   "source": [
    "16. Anúncios em que o o anunciante é PJ correspondem a 60% dos que recebem leads.\n",
    "18. Anúncios em que o o anunciante é PJ correspondem a 80% dos que recebem mais de 5 leads.\n",
    "19. Anunciantes com avaliação média superior a 4 estrelas tem 50%+ de chances de receber leads."
   ]
  },
  {
   "cell_type": "markdown",
   "id": "72240f20",
   "metadata": {},
   "source": [
    "### 3.2.5. Cliente"
   ]
  },
  {
   "cell_type": "markdown",
   "id": "d79d2dfb",
   "metadata": {},
   "source": [
    "19. Clientes homens correspondem a 80%+ de todos os leads da plataforma.\n",
    "21. 70% dos leads ficam mais de 10 minutos na página do anúncio.\n",
    "22. Clientes com idade entre 25 e 45 anos correspondem a no mínimo 80% dos leads.\n",
    "23. 70% dos clientes que viraram leads visitaram no mínimo 5 outros anúncios."
   ]
  },
  {
   "cell_type": "markdown",
   "id": "251117cf",
   "metadata": {},
   "source": [
    "### 3.2.6. Data"
   ]
  },
  {
   "cell_type": "markdown",
   "id": "e9ef71a4",
   "metadata": {},
   "source": [
    "23. Sábado e Domingo representam 70%+ dos leads gerados.\n",
    "25. A primeira quinzena do mês correspondem a 70%+ dos leads gerados.\n",
    "26. Os meses de Janeiro e Fevereiro representam menos de 15% dos leads gerados.\n",
    "27. O periodo da noite (18h) concentra 80% dos leads gerados."
   ]
  },
  {
   "cell_type": "markdown",
   "id": "6eaf56f1",
   "metadata": {},
   "source": [
    "### 3.2.7. Hipóteses sem Features para Validar"
   ]
  },
  {
   "cell_type": "markdown",
   "id": "f24dbb4b",
   "metadata": {
    "ExecuteTime": {
     "end_time": "2022-07-30T05:26:26.788817Z",
     "start_time": "2022-07-30T05:26:26.769949Z"
    }
   },
   "source": [
    "- **(cor)** - Veiculos brancos e pretos representam no mínimo 70% dos leads.\n",
    "- **(região metropolitana/rural)** - Cidade do interior possuem no máximo 4 leads por anúncio.\n",
    "- **(qualidade das fotos)** - Anúncios com fotos de baixa qualidade representam no mínimo 70% dos que não recebem leads.\n",
    "- **(local das fotos**) - Anúncios com fotos do interior do veículo aumentam em 50% as chances de receber um lead.\n",
    "- **(quantidade de palavras)** - Anúncios com descrição menor que 100 palavras correspondem a até 10% dos que recebem leads.\n",
    "- **(avaliação do anunciante)** - Anunciantes com avaliação média superior a 4 estrelas tem 50%+ de chances de receber leads.\n",
    "- **(gênero do cliente)** - Clientes homens correspondem a 80%+ de todos os leads da plataforma.\n",
    "- **(tempo médio na página do anúncio)** - 70% dos leads ficam mais de 10 minutos na página do anúncio.\n",
    "- **(idade do cliente)** - Clientes com idade entre 25 e 45 anos correspondem a no mínimo 80% dos leads.\n",
    "- **(quantidade de anúncios visitados)** - 70% dos clientes que viraram leads visitaram no mínimo 5 outros anúncios.\n",
    "- **(dia do mês)** - Sábado e Domingo representam 70%+ dos leads gerados.\n",
    "- **(dia do mês)** - A primeira quinzena do mês correspondem a 70%+ dos leads gerados.\n",
    "- **(meses)** - Os meses de Janeiro e Fevereiro representam menos de 15% dos leads gerados.\n",
    "- **(horário que o anúncio recebeu cada lead)** - O periodo da noite (18h) concentra 80% dos leads gerados."
   ]
  },
  {
   "cell_type": "markdown",
   "id": "5e2106fe",
   "metadata": {},
   "source": [
    "### 3.2.8. Lista de Hipóteses Selecionadas/Priorizadas"
   ]
  },
  {
   "cell_type": "markdown",
   "id": "7987fb42",
   "metadata": {},
   "source": [
    "01. Veículos com IPVA pago correspondem a 70% dos anúncios com leads.\n",
    "03. Duas marcas de veículos correspondem a 60% dos anúncios com leads.\n",
    "04. Veículos com ano de fabricação inferior a 2010 geram até 20% dos leads.\n",
    "05. Veiculos Flex correspondem a no mínimo 60% dos leads.\n",
    "06. São Paulo concentra 80% dos anúncios que possuem mais de 30 leads.\n",
    "07. Anúncios com menos de 5 fotos correspondem a no mínimo 70% dos que não recebem leads.\n",
    "08. A mediana da quantidade de fotos no anúncio é 2x maior para anúncios que receberam leads.\n",
    "09. Anúncios com valor do veículo inferior a 10% da tabela FIPE correspondem a 50% dos que recebem leads.\n",
    "10. Anúncios em que o o anunciante é PJ correspondem a 60% dos que recebem leads."
   ]
  },
  {
   "cell_type": "markdown",
   "id": "a1eb1956",
   "metadata": {},
   "source": [
    "## 3.3. Features Creation"
   ]
  },
  {
   "cell_type": "markdown",
   "id": "cfc59daa",
   "metadata": {},
   "source": [
    "**Alterar de S/N (object) para 1/0 (int64)**"
   ]
  },
  {
   "cell_type": "code",
   "execution_count": 54,
   "id": "f0602b2b",
   "metadata": {
    "ExecuteTime": {
     "end_time": "2022-07-31T14:18:35.341283Z",
     "start_time": "2022-07-31T14:18:35.249413Z"
    }
   },
   "outputs": [],
   "source": [
    "df2['alarme'] = bin_change(df2['alarme'])        \n",
    "df2['airbag'] = bin_change(df2['airbag'])        \n",
    "df2['arquente'] = bin_change(df2['arquente'])      \n",
    "df2['bancocouro'] = bin_change(df2['bancocouro'])    \n",
    "df2['arcondic'] = bin_change(df2['arcondic'])      \n",
    "df2['abs'] = bin_change(df2['abs'])           \n",
    "df2['desembtras'] = bin_change(df2['desembtras'])    \n",
    "df2['travaeletr'] = bin_change(df2['travaeletr'])    \n",
    "df2['vidroseletr'] = bin_change(df2['vidroseletr'])   \n",
    "df2['rodasliga'] = bin_change(df2['rodasliga'])     \n",
    "df2['sensorchuva'] = bin_change(df2['sensorchuva'])   \n",
    "df2['sensorestacion'] = bin_change(df2['sensorestacion'])"
   ]
  },
  {
   "cell_type": "markdown",
   "id": "5eb7bb29",
   "metadata": {},
   "source": [
    "**Feature: UF e Cidade**"
   ]
  },
  {
   "cell_type": "code",
   "execution_count": 55,
   "id": "41363252",
   "metadata": {
    "ExecuteTime": {
     "end_time": "2022-07-31T14:18:36.920198Z",
     "start_time": "2022-07-31T14:18:36.878483Z"
    },
    "hide_input": false
   },
   "outputs": [],
   "source": [
    "df2['uf'] = df2['uf_cidade'].apply(lambda x: x.split('_')[0])\n",
    "df2['cidade'] = df2['uf_cidade'].apply(lambda x: x.split('_')[1])"
   ]
  },
  {
   "cell_type": "markdown",
   "id": "f25ced5c",
   "metadata": {},
   "source": [
    "**Feature: Recebeu/Não recebeu leads**"
   ]
  },
  {
   "cell_type": "code",
   "execution_count": 56,
   "id": "da528138",
   "metadata": {
    "ExecuteTime": {
     "end_time": "2022-07-31T14:18:37.211795Z",
     "start_time": "2022-07-31T14:18:37.207313Z"
    }
   },
   "outputs": [],
   "source": [
    "df2['binary'] = np.where(df2['leads'] > 0, 1, 0)"
   ]
  },
  {
   "cell_type": "markdown",
   "id": "866fd51c",
   "metadata": {},
   "source": [
    "**Feature: Quantidade média de leads por estado**"
   ]
  },
  {
   "cell_type": "code",
   "execution_count": 57,
   "id": "f78c22a1",
   "metadata": {
    "ExecuteTime": {
     "end_time": "2022-07-31T14:18:37.595703Z",
     "start_time": "2022-07-31T14:18:37.550516Z"
    },
    "scrolled": true
   },
   "outputs": [],
   "source": [
    "aux = df2[['leads', 'uf']].groupby('uf').mean().reset_index()\n",
    "media_leads_uf_dict = dict(list(zip(aux['uf'], aux['leads'])))\n",
    "df2['media_leads_uf'] = df2['uf'].map(media_leads_uf_dict)"
   ]
  },
  {
   "cell_type": "markdown",
   "id": "74402dae",
   "metadata": {},
   "source": [
    "**Feature: Quantidade de opcionais**"
   ]
  },
  {
   "cell_type": "code",
   "execution_count": 58,
   "id": "f4d78fd3",
   "metadata": {
    "ExecuteTime": {
     "end_time": "2022-07-31T14:18:38.009443Z",
     "start_time": "2022-07-31T14:18:37.973659Z"
    }
   },
   "outputs": [],
   "source": [
    "df2['qnt_opcionais'] = df2[['flg_blindado', 'alarme', 'airbag', 'arquente', 'bancocouro', 'arcondic', 'abs',\n",
    "                            'desembtras', 'travaeletr', 'vidroseletr', 'rodasliga', 'sensorchuva', \n",
    "                            'sensorestacion']].sum(axis = 1).astype(str)"
   ]
  },
  {
   "cell_type": "markdown",
   "id": "cd146d92",
   "metadata": {},
   "source": [
    "**Feature: IPVA pago e Licenciamento em dia**"
   ]
  },
  {
   "cell_type": "code",
   "execution_count": 59,
   "id": "c489d528",
   "metadata": {
    "ExecuteTime": {
     "end_time": "2022-07-31T14:18:38.547634Z",
     "start_time": "2022-07-31T14:18:38.510892Z"
    }
   },
   "outputs": [],
   "source": [
    "aux = df2[['flg_licenciado', 'flg_ipva_pago']].sum(axis=1)\n",
    "df2['ipva_licenciamento_ok'] = aux.apply(lambda x: 1 if x == 2 else 0)"
   ]
  },
  {
   "cell_type": "markdown",
   "id": "1d64c930",
   "metadata": {},
   "source": [
    "**Feature: Valor do anúncio inferior ao valor de mercado**"
   ]
  },
  {
   "cell_type": "code",
   "execution_count": 60,
   "id": "a8258fff",
   "metadata": {
    "ExecuteTime": {
     "end_time": "2022-07-31T14:18:39.039253Z",
     "start_time": "2022-07-31T14:18:39.007468Z"
    }
   },
   "outputs": [],
   "source": [
    "df2['vlr_anuncio_inferior_mercado'] = (df2['vlr_anuncio'] / df2['vlr_mercado']).apply(lambda x: 1 if x <= 1 else 0)"
   ]
  },
  {
   "cell_type": "markdown",
   "id": "50b3588f",
   "metadata": {},
   "source": [
    "### 3.3.1. Criar features no dataset de treino"
   ]
  },
  {
   "cell_type": "code",
   "execution_count": 61,
   "id": "0a019310",
   "metadata": {
    "ExecuteTime": {
     "end_time": "2022-07-31T14:18:39.837404Z",
     "start_time": "2022-07-31T14:18:39.685673Z"
    }
   },
   "outputs": [],
   "source": [
    "df_train['alarme'] = bin_change(df_train['alarme'])        \n",
    "df_train['airbag'] = bin_change(df_train['airbag'])        \n",
    "df_train['arquente'] = bin_change(df_train['arquente'])      \n",
    "df_train['bancocouro'] = bin_change(df_train['bancocouro'])    \n",
    "df_train['arcondic'] = bin_change(df_train['arcondic'])      \n",
    "df_train['abs'] = bin_change(df_train['abs'])           \n",
    "df_train['desembtras'] = bin_change(df_train['desembtras'])    \n",
    "df_train['travaeletr'] = bin_change(df_train['travaeletr'])    \n",
    "df_train['vidroseletr'] = bin_change(df_train['vidroseletr'])   \n",
    "df_train['rodasliga'] = bin_change(df_train['rodasliga'])     \n",
    "df_train['sensorchuva'] = bin_change(df_train['sensorchuva'])   \n",
    "df_train['sensorestacion'] = bin_change(df_train['sensorestacion'])\n",
    "\n",
    "df_train['uf'] = df_train['uf_cidade'].apply(lambda x: x.split('_')[0])\n",
    "df_train['cidade'] = df_train['uf_cidade'].apply(lambda x: x.split('_')[1])\n",
    "\n",
    "df_train['binary'] = np.where(df_train['leads'] > 0, 1, 0)\n",
    "\n",
    "df_train['media_leads_uf'] = df_train['uf'].map(media_leads_uf_dict)\n",
    "\n",
    "df_train['qnt_opcionais'] = df_train[['flg_blindado', 'alarme', 'airbag', 'arquente', 'bancocouro', 'arcondic', 'abs',\n",
    "                            'desembtras', 'travaeletr', 'vidroseletr', 'rodasliga', 'sensorchuva', \n",
    "                            'sensorestacion']].sum(axis = 1).astype(str)\n",
    "\n",
    "aux = df_train[['flg_licenciado', 'flg_ipva_pago']].sum(axis=1)\n",
    "df_train['ipva_licenciamento_ok'] = aux.apply(lambda x: 1 if x == 2 else 0)\n",
    "\n",
    "df_train['vlr_anuncio_inferior_mercado'] = (df_train['vlr_anuncio'] / df_train['vlr_mercado']).apply(lambda x: 1 if x <= 1 else 0)"
   ]
  },
  {
   "cell_type": "markdown",
   "id": "4b9fd211",
   "metadata": {},
   "source": [
    "# 4. DATA FILTERING"
   ]
  },
  {
   "cell_type": "code",
   "execution_count": 62,
   "id": "b8c1fa78",
   "metadata": {
    "ExecuteTime": {
     "end_time": "2022-07-31T14:18:40.960016Z",
     "start_time": "2022-07-31T14:18:40.925645Z"
    }
   },
   "outputs": [],
   "source": [
    "df3 = df2.copy()"
   ]
  },
  {
   "cell_type": "code",
   "execution_count": 63,
   "id": "f50cd157",
   "metadata": {
    "ExecuteTime": {
     "end_time": "2022-07-31T14:18:41.221377Z",
     "start_time": "2022-07-31T14:18:41.112079Z"
    }
   },
   "outputs": [],
   "source": [
    "# df para análise exploratória\n",
    "df3 = df3.drop(columns='uf_cidade')\n",
    "df3 = df3.drop(index=df3.query('portas == 0').index)\n",
    "df3 = df3.drop(index=df3.query('views == 0').index)\n",
    "\n",
    "# df para modelagem\n",
    "df_train = df_train.drop(columns='uf_cidade')\n",
    "df_train = df_train.drop(index=df_train.query('portas == 0').index)\n",
    "df_train = df_train.drop(index=df_train.query('views == 0').index)"
   ]
  },
  {
   "cell_type": "markdown",
   "id": "b662c7b4",
   "metadata": {},
   "source": [
    "# 5. EXPLORATORY DATA ANALYSIS "
   ]
  },
  {
   "cell_type": "code",
   "execution_count": 172,
   "id": "b214c4be",
   "metadata": {
    "ExecuteTime": {
     "end_time": "2022-07-31T15:12:09.848873Z",
     "start_time": "2022-07-31T15:12:09.827519Z"
    }
   },
   "outputs": [],
   "source": [
    "df4 = df3.copy()"
   ]
  },
  {
   "cell_type": "markdown",
   "id": "7e2e74aa",
   "metadata": {},
   "source": [
    "**Para as análises será considerado o dataset inteiro depois das limpezas.**"
   ]
  },
  {
   "cell_type": "markdown",
   "id": "f2472563",
   "metadata": {},
   "source": [
    "## 5.1. Feature Analysis"
   ]
  },
  {
   "cell_type": "markdown",
   "id": "d03a95c7",
   "metadata": {},
   "source": [
    "**Devido a quantidade de Features no dataset, nesse primeiro ciclo eu vou analisar apenas as Features que jungar mais interessantes e que podem gerar insights para os anunciantes.**"
   ]
  },
  {
   "cell_type": "markdown",
   "id": "953004bc",
   "metadata": {},
   "source": [
    "Features analisadas:\n",
    "\n",
    "01. leads & binary\n",
    "01. prioridade\n",
    "02. qtd_fotos\n",
    "03. vlr_mercado\n",
    "04. vlr_anuncio\n",
    "05. flg_licenciado\n",
    "06. flg_ipva_pago\n",
    "07. flg_aceita_troca"
   ]
  },
  {
   "cell_type": "markdown",
   "id": "46c61c6d",
   "metadata": {},
   "source": [
    "### 5.1.1. Target Variable"
   ]
  },
  {
   "cell_type": "markdown",
   "id": "55834487",
   "metadata": {},
   "source": [
    "**Binary**"
   ]
  },
  {
   "cell_type": "markdown",
   "id": "99be657f",
   "metadata": {},
   "source": [
    "Classes são desbalanceadas e talvez seja necessário a aplicação de alguma técnica de balanceamento."
   ]
  },
  {
   "cell_type": "code",
   "execution_count": 173,
   "id": "e274a327",
   "metadata": {
    "ExecuteTime": {
     "end_time": "2022-07-31T15:12:11.586615Z",
     "start_time": "2022-07-31T15:12:11.478388Z"
    },
    "scrolled": true
   },
   "outputs": [
    {
     "name": "stdout",
     "output_type": "stream",
     "text": [
      "Anúncios com lead(s): 32071\n",
      "Anúncios com lead(s): 9109\n"
     ]
    },
    {
     "data": {
      "image/png": "[encoded data removed]",
      "text/plain": [
       "<Figure size 432x288 with 1 Axes>"
      ]
     },
     "metadata": {
      "needs_background": "light"
     },
     "output_type": "display_data"
    }
   ],
   "source": [
    "sns.countplot(x='binary', data=df4);\n",
    "plt.title('Número de anúncios com Leads vs sem Leads');\n",
    "\n",
    "print('Anúncios com lead(s):', df4[df4['binary'] == 1].shape[0])\n",
    "print('Anúncios com lead(s):', df4[df4['binary'] == 0].shape[0])"
   ]
  },
  {
   "cell_type": "markdown",
   "id": "6ff7edce",
   "metadata": {},
   "source": [
    "**Leads**"
   ]
  },
  {
   "cell_type": "code",
   "execution_count": 174,
   "id": "4301fd3f",
   "metadata": {
    "ExecuteTime": {
     "end_time": "2022-07-31T15:12:12.263177Z",
     "start_time": "2022-07-31T15:12:11.799980Z"
    },
    "scrolled": false
   },
   "outputs": [
    {
     "data": {
      "image/png": "[encoded data removed]",
      "text/plain": [
       "<Figure size 864x1080 with 1 Axes>"
      ]
     },
     "metadata": {
      "needs_background": "light"
     },
     "output_type": "display_data"
    }
   ],
   "source": [
    "plt.gcf().set_size_inches(12,15)\n",
    "aux = (df4[['leads', 'cod_anuncio']].groupby('leads')\n",
    "                                    .count()\n",
    "                                    .sort_values('cod_anuncio', ascending=False)\n",
    "                                    .reset_index())\n",
    "\n",
    "sns.barplot(x='cod_anuncio', y='leads', data=aux, orient='h');"
   ]
  },
  {
   "cell_type": "markdown",
   "id": "9581c294",
   "metadata": {},
   "source": [
    "### 5.1.2. prioridade (1=alta, 2-média, 3-baixa)"
   ]
  },
  {
   "cell_type": "markdown",
   "id": "4007d45f",
   "metadata": {},
   "source": [
    "Não existe uma diferença significativa de leads com base na prioridade do anúncio."
   ]
  },
  {
   "cell_type": "code",
   "execution_count": 175,
   "id": "e6190903",
   "metadata": {
    "ExecuteTime": {
     "end_time": "2022-07-31T15:12:12.462873Z",
     "start_time": "2022-07-31T15:12:12.309956Z"
    },
    "scrolled": false
   },
   "outputs": [
    {
     "data": {
      "image/png": "[encoded data removed]",
      "text/plain": [
       "<Figure size 1080x360 with 2 Axes>"
      ]
     },
     "metadata": {
      "needs_background": "light"
     },
     "output_type": "display_data"
    }
   ],
   "source": [
    "aux = (df4[['prioridade', 'binary']].groupby('prioridade')\n",
    "                                    .sum()\n",
    "                                    .sort_values('binary', ascending=False)\n",
    "                                    .reset_index())\n",
    "\n",
    "plt.gcf().set_size_inches(15,5)\n",
    "\n",
    "plt.subplot(1,2,1)\n",
    "sns.countplot(x='prioridade',data=df4).set_title('Quantidade de anúncios por prioridade');\n",
    "\n",
    "plt.subplot(1,2,2)\n",
    "sns.barplot(x='prioridade', y='binary', data=aux).set_title('Quantidade de anúncios com leads por prioridade');"
   ]
  },
  {
   "cell_type": "code",
   "execution_count": 176,
   "id": "020d25f0",
   "metadata": {
    "ExecuteTime": {
     "end_time": "2022-07-31T15:12:12.754890Z",
     "start_time": "2022-07-31T15:12:12.723858Z"
    }
   },
   "outputs": [
    {
     "name": "stdout",
     "output_type": "stream",
     "text": [
      "76.85% dos anúncios prioridade 3 receberam leads.\n",
      "83.40% dos anúncios prioridade 2 receberam leads.\n",
      "81.12% dos anúncios prioridade 1 receberam leads.\n"
     ]
    }
   ],
   "source": [
    "aux1 = df4.query('prioridade == 3')\n",
    "aux2 = df4.query('prioridade == 2')\n",
    "aux3 = df4.query('prioridade == 1')\n",
    "aux4 = aux1['binary'].value_counts()[1] / len(aux1)\n",
    "aux5 = aux2['binary'].value_counts()[1] / len(aux2)\n",
    "aux6 = aux3['binary'].value_counts()[1] / len(aux3)\n",
    "\n",
    "print(f'{100 * aux4:.2f}% dos anúncios prioridade 3 receberam leads.')\n",
    "print(f'{100 * aux5:.2f}% dos anúncios prioridade 2 receberam leads.')\n",
    "print(f'{100 * aux6:.2f}% dos anúncios prioridade 1 receberam leads.')"
   ]
  },
  {
   "cell_type": "markdown",
   "id": "516a5276",
   "metadata": {},
   "source": [
    "### 5.1.3. qtd_fotos"
   ]
  },
  {
   "cell_type": "markdown",
   "id": "2ada012e",
   "metadata": {},
   "source": [
    "Anúncios com 8 fotos correspondem à 55% dos leads gerados."
   ]
  },
  {
   "cell_type": "code",
   "execution_count": 177,
   "id": "e31b5f52",
   "metadata": {
    "ExecuteTime": {
     "end_time": "2022-07-31T15:12:13.460523Z",
     "start_time": "2022-07-31T15:12:13.431814Z"
    },
    "scrolled": true
   },
   "outputs": [],
   "source": [
    "aux = df4.query('binary == 1')\n",
    "aux1 = df4.query('binary == 0')"
   ]
  },
  {
   "cell_type": "code",
   "execution_count": 178,
   "id": "34c8312c",
   "metadata": {
    "ExecuteTime": {
     "end_time": "2022-07-31T15:12:13.920907Z",
     "start_time": "2022-07-31T15:12:13.637295Z"
    },
    "scrolled": false
   },
   "outputs": [
    {
     "data": {
      "image/png": "[encoded data removed]",
      "text/plain": [
       "<Figure size 864x360 with 2 Axes>"
      ]
     },
     "metadata": {
      "needs_background": "light"
     },
     "output_type": "display_data"
    }
   ],
   "source": [
    "aux2 = aux[['qtd_fotos', 'binary']].groupby('qtd_fotos').count().sort_values('binary', ascending=False).reset_index()\n",
    "aux3 = aux1[['qtd_fotos', 'binary']].groupby('qtd_fotos').count().sort_values('binary', ascending=False).reset_index()\n",
    "\n",
    "plt.gcf().set_size_inches(12,5)\n",
    "\n",
    "plt.subplot(1,2,1)\n",
    "sns.barplot(x='binary', y='qtd_fotos', data=aux2, orient='h').set_title('Com leads')\n",
    "\n",
    "plt.subplot(1,2,2)\n",
    "sns.barplot(x='binary', y='qtd_fotos', data=aux3, orient='h').set_title('Sem leads');"
   ]
  },
  {
   "cell_type": "code",
   "execution_count": 179,
   "id": "ac767f90",
   "metadata": {
    "ExecuteTime": {
     "end_time": "2022-07-31T15:12:13.951768Z",
     "start_time": "2022-07-31T15:12:13.925407Z"
    }
   },
   "outputs": [
    {
     "data": {
      "text/plain": [
       "0.5528047145396152"
      ]
     },
     "execution_count": 179,
     "metadata": {},
     "output_type": "execute_result"
    }
   ],
   "source": [
    "aux2['binary'][0] / aux2['binary'].sum()"
   ]
  },
  {
   "cell_type": "markdown",
   "id": "4e9e3f85",
   "metadata": {},
   "source": [
    "### 5.1.4. vlr_mercado & vlr_anuncio"
   ]
  },
  {
   "cell_type": "markdown",
   "id": "0598ffd0",
   "metadata": {},
   "source": [
    "Nos dados disponibilizados no dataset, os valores dos anúncios serem maiores ou menores que os valores do mercado não impactam no recebimento de leads."
   ]
  },
  {
   "cell_type": "code",
   "execution_count": 180,
   "id": "0d9a6303",
   "metadata": {
    "ExecuteTime": {
     "end_time": "2022-07-31T15:12:14.488272Z",
     "start_time": "2022-07-31T15:12:14.418764Z"
    },
    "scrolled": true
   },
   "outputs": [
    {
     "name": "stdout",
     "output_type": "stream",
     "text": [
      "Quantidade de anúncios com valor MAIOR que o de mercado: 19317\n",
      "Quantidade de anúncios com valor MENOR ou igual que o de mercado: 21863\n",
      "---------------------------------------------------------------------------\n",
      "76.20% dos anúncios com valor MAIOR que o de mercado receberam leads.\n",
      "79.36% dos anúncios com valor MENOR ou igual que o de mercado receberam leads.\n"
     ]
    }
   ],
   "source": [
    "# valor do veículo menor ou igual ao valor do mercado\n",
    "aux = df4\n",
    "aux['vlr_merc_menor'] = (df4['vlr_anuncio'] / df4['vlr_mercado']).apply(lambda x: 1 if x <= 1 else 0)\n",
    "aux[['vlr_merc_menor', 'binary']]\n",
    "\n",
    "aux1 = aux.query('vlr_merc_menor == 0')\n",
    "aux2 = aux.query('vlr_merc_menor == 1')\n",
    "aux3 = aux1['binary'].value_counts()[1] / len(aux1)\n",
    "aux4 = aux2['binary'].value_counts()[1] / len(aux2)\n",
    "\n",
    "print('Quantidade de anúncios com valor MAIOR que o de mercado:', len(aux1))\n",
    "print('Quantidade de anúncios com valor MENOR ou igual que o de mercado:', len(aux2))\n",
    "print('---------------------------------------------------------------------------')\n",
    "print(f'{100 * aux3:.2f}% dos anúncios com valor MAIOR que o de mercado receberam leads.')\n",
    "print(f'{100 * aux4:.2f}% dos anúncios com valor MENOR ou igual que o de mercado receberam leads.')"
   ]
  },
  {
   "cell_type": "markdown",
   "id": "619b1cf4",
   "metadata": {},
   "source": [
    "### 5.1.5. flg_licenciado"
   ]
  },
  {
   "cell_type": "markdown",
   "id": "cf117841",
   "metadata": {},
   "source": [
    "O veículo ser licenciado é considerado importante para a demonstração de interesse no anúncio."
   ]
  },
  {
   "cell_type": "code",
   "execution_count": 181,
   "id": "87e128eb",
   "metadata": {
    "ExecuteTime": {
     "end_time": "2022-07-31T15:12:15.334864Z",
     "start_time": "2022-07-31T15:12:15.217161Z"
    },
    "scrolled": true
   },
   "outputs": [
    {
     "data": {
      "image/png": "[encoded data removed]",
      "text/plain": [
       "<Figure size 432x288 with 1 Axes>"
      ]
     },
     "metadata": {
      "needs_background": "light"
     },
     "output_type": "display_data"
    }
   ],
   "source": [
    "aux = (df4[['flg_licenciado', 'cod_anuncio']].groupby('flg_licenciado')\n",
    "                                             .count()\n",
    "                                             .sort_values('cod_anuncio', ascending=False)\n",
    "                                             .reset_index())\n",
    "\n",
    "sns.barplot(x='flg_licenciado', y='cod_anuncio', data=aux).set_title('Proporção de veículos licenciados x não-lcenciados');"
   ]
  },
  {
   "cell_type": "code",
   "execution_count": 182,
   "id": "5cf7c1a9",
   "metadata": {
    "ExecuteTime": {
     "end_time": "2022-07-31T15:12:15.518684Z",
     "start_time": "2022-07-31T15:12:15.497339Z"
    }
   },
   "outputs": [
    {
     "name": "stdout",
     "output_type": "stream",
     "text": [
      "80.93% de todos os veículos licenciados do dataset receberam leads.\n"
     ]
    }
   ],
   "source": [
    "aux1 = df4.query('flg_licenciado == 1')\n",
    "aux2 = aux1['binary'].value_counts()[1] / len(aux1)\n",
    "\n",
    "print(f'{100 * aux2:.2f}% de todos os veículos licenciados do dataset receberam leads.')"
   ]
  },
  {
   "cell_type": "markdown",
   "id": "ed5ff734",
   "metadata": {},
   "source": [
    "### 5.1.6. flg_ipva_pago"
   ]
  },
  {
   "cell_type": "markdown",
   "id": "c2c980fa",
   "metadata": {},
   "source": [
    "O veículo estar com o IPVA pago é considerado importante para a demonstração de interesse no anúncio."
   ]
  },
  {
   "cell_type": "code",
   "execution_count": 183,
   "id": "2d0471e8",
   "metadata": {
    "ExecuteTime": {
     "end_time": "2022-07-31T15:12:16.441221Z",
     "start_time": "2022-07-31T15:12:16.341582Z"
    }
   },
   "outputs": [
    {
     "data": {
      "image/png": "[encoded data removed]",
      "text/plain": [
       "<Figure size 432x288 with 1 Axes>"
      ]
     },
     "metadata": {
      "needs_background": "light"
     },
     "output_type": "display_data"
    }
   ],
   "source": [
    "aux = (df4[['flg_ipva_pago', 'cod_anuncio']].groupby('flg_ipva_pago')\n",
    "                                             .count()\n",
    "                                             .sort_values('cod_anuncio', ascending=False)\n",
    "                                             .reset_index())\n",
    "\n",
    "sns.barplot(x='flg_ipva_pago', y='cod_anuncio', data=aux).set_title('Proporção de veículos IPVA pago x IPVA não pago');"
   ]
  },
  {
   "cell_type": "code",
   "execution_count": 184,
   "id": "3b8587e6",
   "metadata": {
    "ExecuteTime": {
     "end_time": "2022-07-31T15:12:16.579161Z",
     "start_time": "2022-07-31T15:12:16.537368Z"
    },
    "scrolled": true
   },
   "outputs": [
    {
     "name": "stdout",
     "output_type": "stream",
     "text": [
      "79.90% de todos os veículos com IPVA pago do dataset receberam leads.\n"
     ]
    }
   ],
   "source": [
    "aux1 = df4.query('flg_ipva_pago == 1')\n",
    "aux2 = aux1['binary'].value_counts()[1] / len(aux1)\n",
    "\n",
    "print(f'{100 * aux2:.2f}% de todos os veículos com IPVA pago do dataset receberam leads.')"
   ]
  },
  {
   "cell_type": "markdown",
   "id": "b4d3c226",
   "metadata": {},
   "source": [
    "### 5.1.7. flg_aceita_troca"
   ]
  },
  {
   "cell_type": "markdown",
   "id": "cba0a407",
   "metadata": {},
   "source": [
    "O anunciante aceitar troca é considerado importante para a demonstração de interesse no anúncio."
   ]
  },
  {
   "cell_type": "code",
   "execution_count": 185,
   "id": "3bef040c",
   "metadata": {
    "ExecuteTime": {
     "end_time": "2022-07-31T15:12:17.224902Z",
     "start_time": "2022-07-31T15:12:17.120364Z"
    }
   },
   "outputs": [
    {
     "data": {
      "image/png": "[encoded data removed]",
      "text/plain": [
       "<Figure size 432x288 with 1 Axes>"
      ]
     },
     "metadata": {
      "needs_background": "light"
     },
     "output_type": "display_data"
    }
   ],
   "source": [
    "aux = (df4[['flg_aceita_troca', 'cod_anuncio']].groupby('flg_aceita_troca')\n",
    "                                               .count()\n",
    "                                               .sort_values('cod_anuncio', ascending=False)\n",
    "                                               .reset_index())\n",
    "\n",
    "sns.barplot(x='flg_aceita_troca', y='cod_anuncio', data=aux).set_title('Proporção de anúncios que aceitam troca x não aceitam');"
   ]
  },
  {
   "cell_type": "code",
   "execution_count": 186,
   "id": "3698861b",
   "metadata": {
    "ExecuteTime": {
     "end_time": "2022-07-31T15:12:17.731135Z",
     "start_time": "2022-07-31T15:12:17.719675Z"
    }
   },
   "outputs": [
    {
     "name": "stdout",
     "output_type": "stream",
     "text": [
      "83.49% de todos os anúncios que aceitam troca do dataset receberam leads.\n"
     ]
    }
   ],
   "source": [
    "aux1 = df4.query('flg_aceita_troca == 1')\n",
    "aux2 = aux1['binary'].value_counts()[1] / len(aux1)\n",
    "\n",
    "print(f'{100 * aux2:.2f}% de todos os anúncios que aceitam troca do dataset receberam leads.')"
   ]
  },
  {
   "cell_type": "markdown",
   "id": "81bb79a7",
   "metadata": {},
   "source": [
    "## 5.2. Hypotheses Testing "
   ]
  },
  {
   "cell_type": "markdown",
   "id": "a700c8f5",
   "metadata": {},
   "source": [
    "### 5.2.1. [Falsa] 01. Veículos com IPVA pago correspondem a 70% dos anúncios com leads."
   ]
  },
  {
   "cell_type": "markdown",
   "id": "975d1712",
   "metadata": {},
   "source": [
    "**R: Veículos com IPVA pago correspondem à 41.17% dos anúncios com leads. Porém, veiculos com IPVA pago tem uma média de leads 2.66 vezes maior que os veículos sem IPVA pago.**"
   ]
  },
  {
   "cell_type": "code",
   "execution_count": 187,
   "id": "7c492bfc",
   "metadata": {
    "ExecuteTime": {
     "end_time": "2022-07-31T15:12:18.563349Z",
     "start_time": "2022-07-31T15:12:18.483257Z"
    }
   },
   "outputs": [
    {
     "name": "stdout",
     "output_type": "stream",
     "text": [
      "Veículos com IPVA pago correspondem à 41.17% dos anúncios com leads\n"
     ]
    },
    {
     "data": {
      "image/png": "[encoded data removed]",
      "text/plain": [
       "<Figure size 432x288 with 1 Axes>"
      ]
     },
     "metadata": {
      "needs_background": "light"
     },
     "output_type": "display_data"
    }
   ],
   "source": [
    "aux = df4.query('binary == 1')\n",
    "sns.countplot(x=aux['flg_ipva_pago']).set_title('Qnt IPVA pago X Anúncios com leads');\n",
    "\n",
    "print(f'Veículos com IPVA pago correspondem à {aux[\"flg_ipva_pago\"].value_counts()[1] / len(aux) * 100:.2f}% dos anúncios com leads')"
   ]
  },
  {
   "cell_type": "code",
   "execution_count": 188,
   "id": "e6d1eb99",
   "metadata": {
    "ExecuteTime": {
     "end_time": "2022-07-31T15:12:19.380430Z",
     "start_time": "2022-07-31T15:12:19.345091Z"
    }
   },
   "outputs": [
    {
     "name": "stdout",
     "output_type": "stream",
     "text": [
      "Média de leads recebidos em veículos com IPVA Pago: 7\n",
      "Média de leads recebidos em veículos com IPVA Pago: 3\n"
     ]
    }
   ],
   "source": [
    "aux1 = aux.query('flg_ipva_pago == 1')['leads'].mean()\n",
    "aux2 = aux.query('flg_ipva_pago == 0')['leads'].mean()\n",
    "\n",
    "print('Média de leads recebidos em veículos com IPVA Pago:', int(aux1))\n",
    "print('Média de leads recebidos em veículos com IPVA Pago:', int(aux2))"
   ]
  },
  {
   "cell_type": "markdown",
   "id": "2e57747a",
   "metadata": {
    "heading_collapsed": true
   },
   "source": [
    "### 5.2.2. [Falsa] 02. Duas marcas de veículos correspondem a 60% dos anúncios com leads."
   ]
  },
  {
   "cell_type": "markdown",
   "id": "d9c756cc",
   "metadata": {
    "hidden": true
   },
   "source": [
    "**R: Cinco marcas de veículos corresponddem a aproximadamente 60% dos anúncios com leads. As marcas são: 2, 5, 4, 3, 30**"
   ]
  },
  {
   "cell_type": "code",
   "execution_count": 301,
   "id": "45c01699",
   "metadata": {
    "ExecuteTime": {
     "end_time": "2022-07-31T18:25:38.105431Z",
     "start_time": "2022-07-31T18:25:37.887846Z"
    },
    "hidden": true
   },
   "outputs": [
    {
     "data": {
      "image/png": "[encoded data removed]",
      "text/plain": [
       "<Figure size 432x288 with 1 Axes>"
      ]
     },
     "metadata": {
      "needs_background": "light"
     },
     "output_type": "display_data"
    }
   ],
   "source": [
    "aux = df4.query('binary == 1')\n",
    "\n",
    "aux1 = (aux[['cod_marca_veiculo', 'binary']].groupby('cod_marca_veiculo')\n",
    "                                            .sum()\n",
    "                                            .sort_values('binary', ascending=False)\n",
    "                                            .reset_index())\n",
    "\n",
    "sns.barplot(x=aux1.index, y=aux1['binary']);"
   ]
  },
  {
   "cell_type": "code",
   "execution_count": 302,
   "id": "6a2232dd",
   "metadata": {
    "ExecuteTime": {
     "end_time": "2022-07-31T18:25:38.657364Z",
     "start_time": "2022-07-31T18:25:38.642932Z"
    },
    "hidden": true
   },
   "outputs": [
    {
     "name": "stdout",
     "output_type": "stream",
     "text": [
      "As marcas [2, 5, 4, 3, 30] representam 59.09% dos anúncios que receberam leads.\n"
     ]
    }
   ],
   "source": [
    "aux2 = aux1['cod_marca_veiculo'].iloc[:5].values.tolist()\n",
    "aux3 = len(aux[aux['cod_marca_veiculo'].isin(aux2)]) / len(aux)\n",
    "print(f'As marcas {aux2} representam {100 * aux3:.2f}% dos anúncios que receberam leads.')"
   ]
  },
  {
   "cell_type": "markdown",
   "id": "47ee54cd",
   "metadata": {
    "heading_collapsed": true
   },
   "source": [
    "### 5.2.3. [Verdadeira] 03. Veículos com ano de fabricação inferior a 2010 geram até 20% dos leads."
   ]
  },
  {
   "cell_type": "markdown",
   "id": "1c6e2373",
   "metadata": {
    "hidden": true
   },
   "source": [
    "**R: Veículos com ano de fabricação menor ou igual 2010 correspondem a apenas 16.70% dos veículos que recebem leads.**"
   ]
  },
  {
   "cell_type": "code",
   "execution_count": 191,
   "id": "3f65b553",
   "metadata": {
    "ExecuteTime": {
     "end_time": "2022-07-31T15:12:21.624218Z",
     "start_time": "2022-07-31T15:12:21.519337Z"
    },
    "hidden": true
   },
   "outputs": [
    {
     "name": "stdout",
     "output_type": "stream",
     "text": [
      "Veículos com ano de fabricação menor ou igual 2010 correspondem a apenas 16.73% dos veículos que recebem leads.\n"
     ]
    },
    {
     "data": {
      "image/png": "[encoded data removed]",
      "text/plain": [
       "<Figure size 432x288 with 1 Axes>"
      ]
     },
     "metadata": {
      "needs_background": "light"
     },
     "output_type": "display_data"
    }
   ],
   "source": [
    "aux = df4.query('binary == 1')\n",
    "aux1 = aux['ano_modelo'].apply(lambda x: 1 if x <= 2010 else 0)\n",
    "aux2 = pd.concat([aux['binary'], aux1], axis=1)\n",
    "aux3 = aux2.groupby('ano_modelo').sum().reset_index()\n",
    "\n",
    "sns.barplot(x='ano_modelo', y='binary', data=aux3);\n",
    "\n",
    "aux4 = aux3['binary'][1] / aux3['binary'].sum()\n",
    "print(f'Veículos com ano de fabricação menor ou igual 2010 correspondem a apenas {100 * aux4:.2f}% dos veículos que recebem leads.')"
   ]
  },
  {
   "cell_type": "markdown",
   "id": "007b5910",
   "metadata": {
    "hidden": true
   },
   "source": [
    "**Para os próximos ciclos, verificar quais são as caracteristicas presentes nos veículos com ano inferior a 2010 que receberam leads e comparar com os que não receberam, com o objetivo de orientar os anúnciantes.**"
   ]
  },
  {
   "cell_type": "markdown",
   "id": "1b9655bf",
   "metadata": {
    "heading_collapsed": true
   },
   "source": [
    "### 5.2.4. [Verdadeira] 04. Veiculos Flex correspondem a no mínimo 60% dos leads."
   ]
  },
  {
   "cell_type": "markdown",
   "id": "6aae0e2c",
   "metadata": {
    "hidden": true
   },
   "source": [
    "**Veículos flex correspondem a 76.49% dos veículos que recebem leads.**"
   ]
  },
  {
   "cell_type": "code",
   "execution_count": 192,
   "id": "9ea06df7",
   "metadata": {
    "ExecuteTime": {
     "end_time": "2022-07-31T15:12:21.839676Z",
     "start_time": "2022-07-31T15:12:21.720487Z"
    },
    "hidden": true,
    "scrolled": true
   },
   "outputs": [
    {
     "name": "stdout",
     "output_type": "stream",
     "text": [
      "Veículos flex correspondem a 76.49% dos veículos que recebem leads.\n"
     ]
    },
    {
     "data": {
      "image/png": "[encoded data removed]",
      "text/plain": [
       "<Figure size 432x288 with 1 Axes>"
      ]
     },
     "metadata": {
      "needs_background": "light"
     },
     "output_type": "display_data"
    }
   ],
   "source": [
    "aux = df4.query('binary == 1')\n",
    "aux2 = ['gasolina', 'diesel', 'gas natural', 'alcool']\n",
    "aux3 = aux['combustivel'].apply(lambda x: 0 if x in aux2 else 1)\n",
    "aux4  = pd.concat([aux['binary'], aux3], axis=1)\n",
    "aux5 = aux4.groupby('combustivel').sum().reset_index()\n",
    "\n",
    "sns.barplot(x='combustivel', y='binary', data=aux5);\n",
    "\n",
    "aux6 = aux5['binary'][1] / aux4['binary'].sum()\n",
    "print(f'Veículos flex correspondem a {100 * aux6:.2f}% dos veículos que recebem leads.')"
   ]
  },
  {
   "cell_type": "markdown",
   "id": "61ed2190",
   "metadata": {
    "hidden": true
   },
   "source": [
    "**Para os próximos ciclos, verificar quais são as caracteristicas presentes nos veículos que não flex e que receberam leads e comparar com os que não receberam, com o objetivo de orientar os anúnciantes.**"
   ]
  },
  {
   "cell_type": "markdown",
   "id": "9c8c58c7",
   "metadata": {
    "heading_collapsed": true
   },
   "source": [
    "### 5.2.5. [Verdadeira] 05. São Paulo concentra 80% dos anúncios que possuem mais de 30 leads."
   ]
  },
  {
   "cell_type": "markdown",
   "id": "5be3ad8d",
   "metadata": {
    "hidden": true
   },
   "source": [
    "**São Paulo concentra 87.07% dos anúncios que possuem mais de 30 leads.**\n",
    "\n",
    "**Para os anúncios com mais de 20 leads, São Paulo concentra 82.73%.**\n",
    "\n",
    "**Para os anúncios com mais de 10 leads, São Paulo concentra 76.61%.**"
   ]
  },
  {
   "cell_type": "code",
   "execution_count": 202,
   "id": "3833fc57",
   "metadata": {
    "ExecuteTime": {
     "end_time": "2022-07-31T15:14:08.616707Z",
     "start_time": "2022-07-31T15:14:08.607272Z"
    },
    "hidden": true,
    "hide_input": true
   },
   "outputs": [],
   "source": [
    "# função para calcular a porcentam de SP em diferentes quantidades minimas de leads \n",
    "def calc_perc_sp(data, num_leads):\n",
    "    aux = data[data['leads'] >= num_leads]\n",
    "    aux1 = aux[['uf', 'leads']].groupby('uf').count().reset_index().sort_values('leads', ascending=False)\n",
    "    \n",
    "    plot = sns.barplot(x='uf', y='leads', data=aux1);\n",
    "    \n",
    "    aux2 = aux1[aux1['uf'] == 'SP']['leads']\n",
    "    aux3 = aux1['leads'].sum()\n",
    "    aux4 = aux2 / aux3\n",
    "    \n",
    "    resultado = f'São Paulo concentra {(aux4.values * 100)[0]:.2f}% dos anúncios que possuem mais de {num_leads} leads.'\n",
    "    \n",
    "    return resultado"
   ]
  },
  {
   "cell_type": "code",
   "execution_count": 203,
   "id": "f8cf5b2c",
   "metadata": {
    "ExecuteTime": {
     "end_time": "2022-07-31T15:14:09.048369Z",
     "start_time": "2022-07-31T15:14:08.920250Z"
    },
    "hidden": true,
    "hide_input": true
   },
   "outputs": [
    {
     "data": {
      "text/plain": [
       "'São Paulo concentra 87.07% dos anúncios que possuem mais de 30 leads.'"
      ]
     },
     "execution_count": 203,
     "metadata": {},
     "output_type": "execute_result"
    },
    {
     "data": {
      "image/png": "[encoded data removed]",
      "text/plain": [
       "<Figure size 432x288 with 1 Axes>"
      ]
     },
     "metadata": {
      "needs_background": "light"
     },
     "output_type": "display_data"
    }
   ],
   "source": [
    "resultado_30 = calc_perc_sp(df4, 30)\n",
    "resultado_30"
   ]
  },
  {
   "cell_type": "code",
   "execution_count": 204,
   "id": "81347749",
   "metadata": {
    "ExecuteTime": {
     "end_time": "2022-07-31T15:14:09.262896Z",
     "start_time": "2022-07-31T15:14:09.101773Z"
    },
    "hidden": true
   },
   "outputs": [
    {
     "data": {
      "text/plain": [
       "'São Paulo concentra 82.73% dos anúncios que possuem mais de 20 leads.'"
      ]
     },
     "execution_count": 204,
     "metadata": {},
     "output_type": "execute_result"
    },
    {
     "data": {
      "image/png": "[encoded data removed]",
      "text/plain": [
       "<Figure size 432x288 with 1 Axes>"
      ]
     },
     "metadata": {
      "needs_background": "light"
     },
     "output_type": "display_data"
    }
   ],
   "source": [
    "resultado_20 = calc_perc_sp(df4, 20)\n",
    "resultado_20"
   ]
  },
  {
   "cell_type": "code",
   "execution_count": 205,
   "id": "35ae0b6a",
   "metadata": {
    "ExecuteTime": {
     "end_time": "2022-07-31T15:14:10.218220Z",
     "start_time": "2022-07-31T15:14:09.858661Z"
    },
    "hidden": true
   },
   "outputs": [
    {
     "data": {
      "text/plain": [
       "'São Paulo concentra 76.61% dos anúncios que possuem mais de 10 leads.'"
      ]
     },
     "execution_count": 205,
     "metadata": {},
     "output_type": "execute_result"
    },
    {
     "data": {
      "image/png": "[encoded data removed]",
      "text/plain": [
       "<Figure size 432x288 with 1 Axes>"
      ]
     },
     "metadata": {
      "needs_background": "light"
     },
     "output_type": "display_data"
    }
   ],
   "source": [
    "resultado_10 = calc_perc_sp(df4, 10)\n",
    "resultado_10"
   ]
  },
  {
   "cell_type": "markdown",
   "id": "004f6dc1",
   "metadata": {
    "hidden": true
   },
   "source": [
    "**Para os próximos ciclos, verificar quais são as caracteristicas presentes nos anúncios de SP com mais de 30, 20 e 10 leads e comparar com os anúncios dos outros estados, para identificar se existe diferenças e o que pode ser melhorado para aumentar essa porcentagem para os outros estados.**"
   ]
  },
  {
   "cell_type": "markdown",
   "id": "7889b0f5",
   "metadata": {
    "heading_collapsed": true
   },
   "source": [
    "### 5.2.6. [Falso] 06. **Anúncios com menos de 5 fotos correspondem a no mínimo 70% dos que não recebem leads.**"
   ]
  },
  {
   "cell_type": "markdown",
   "id": "7b28f104",
   "metadata": {
    "hidden": true
   },
   "source": [
    "**Anúncios com menos de 5 fotos correspondem à 13.92% dos anúncios que não receberam leads.**"
   ]
  },
  {
   "cell_type": "code",
   "execution_count": 197,
   "id": "2228f726",
   "metadata": {
    "ExecuteTime": {
     "end_time": "2022-07-31T15:12:23.763171Z",
     "start_time": "2022-07-31T15:12:23.735330Z"
    },
    "hidden": true,
    "scrolled": true
   },
   "outputs": [
    {
     "name": "stdout",
     "output_type": "stream",
     "text": [
      "Anúncios com menos de 5 fotos correspondem à 13.92% dos anúncios que não receberam leads.\n"
     ]
    }
   ],
   "source": [
    "aux = df4.query('binary == 0')\n",
    "aux1 = aux.query('qtd_fotos < 5')\n",
    "print(f'Anúncios com menos de 5 fotos correspondem à {100 * len(aux1) / len(aux):.2f}% dos anúncios que não receberam leads.')"
   ]
  },
  {
   "cell_type": "markdown",
   "id": "3ee552d1",
   "metadata": {
    "ExecuteTime": {
     "end_time": "2022-07-30T18:48:33.750591Z",
     "start_time": "2022-07-30T18:48:33.731409Z"
    },
    "heading_collapsed": true
   },
   "source": [
    "### 5.2.7. [Falsa] 07. A mediana da quantidade de fotos no anúncio é 2x maior para anúncios que receberam leads."
   ]
  },
  {
   "cell_type": "markdown",
   "id": "37f3c8ab",
   "metadata": {
    "hidden": true
   },
   "source": [
    "**A mediana e a distribuição da quantidade de fotos para anúncios com e sem leads são as mesmas.**"
   ]
  },
  {
   "cell_type": "code",
   "execution_count": 198,
   "id": "178e0e5d",
   "metadata": {
    "ExecuteTime": {
     "end_time": "2022-07-31T15:12:24.423260Z",
     "start_time": "2022-07-31T15:12:24.295714Z"
    },
    "hidden": true,
    "scrolled": true
   },
   "outputs": [
    {
     "name": "stdout",
     "output_type": "stream",
     "text": [
      "Mediana de fotos para os que receberam leads:  8.0\n",
      "Mediana de fotos para os que n receberam leads: 8.0\n"
     ]
    },
    {
     "data": {
      "image/png": "[encoded data removed]",
      "text/plain": [
       "<Figure size 432x288 with 1 Axes>"
      ]
     },
     "metadata": {
      "needs_background": "light"
     },
     "output_type": "display_data"
    }
   ],
   "source": [
    "aux_leads = df4.query('binary == 1')['qtd_fotos'].median()\n",
    "aux_nleads = df4.query('binary == 0')['qtd_fotos'].median()\n",
    "\n",
    "print('Mediana de fotos para os que receberam leads: ', aux_leads)\n",
    "print('Mediana de fotos para os que n receberam leads:', aux_nleads)\n",
    "\n",
    "sns.boxplot(x='binary', y='qtd_fotos', data=df4);"
   ]
  },
  {
   "cell_type": "code",
   "execution_count": 199,
   "id": "13a4ecf2",
   "metadata": {
    "ExecuteTime": {
     "end_time": "2022-07-31T15:12:24.715719Z",
     "start_time": "2022-07-31T15:12:24.495156Z"
    },
    "hidden": true
   },
   "outputs": [
    {
     "data": {
      "image/png": "[encoded data removed]",
      "text/plain": [
       "<Figure size 864x360 with 2 Axes>"
      ]
     },
     "metadata": {
      "needs_background": "light"
     },
     "output_type": "display_data"
    }
   ],
   "source": [
    "plt.gcf().set_size_inches(12,5)\n",
    "\n",
    "plt.subplot(1,2,1)\n",
    "plt.hist(df4.query('binary == 1')['qtd_fotos'], bins=20);\n",
    "plt.title('Possuem leads')\n",
    "\n",
    "plt.subplot(1,2,2)\n",
    "plt.hist(df4.query('binary == 0')['qtd_fotos'], bins=20);\n",
    "plt.title('Não possuem leads');"
   ]
  },
  {
   "cell_type": "markdown",
   "id": "0de4df4b",
   "metadata": {
    "heading_collapsed": true
   },
   "source": [
    "### 5.2.8. [Falsa] 08. Anúncios com valor do veículo inferior a 10% da tabela FIPE correspondem a 50% dos que recebem leads."
   ]
  },
  {
   "cell_type": "markdown",
   "id": "2f6d06f5",
   "metadata": {
    "hidden": true
   },
   "source": [
    "**Anúncios com o valor do veículo inferior a 10% do valor de mercado correspondem à 7.8% dos que recebem leads.**"
   ]
  },
  {
   "cell_type": "code",
   "execution_count": 200,
   "id": "d170a734",
   "metadata": {
    "ExecuteTime": {
     "end_time": "2022-07-31T15:12:25.853730Z",
     "start_time": "2022-07-31T15:12:25.819384Z"
    },
    "hidden": true
   },
   "outputs": [
    {
     "name": "stdout",
     "output_type": "stream",
     "text": [
      "Anúncios com o valor do veículo inferior a 10% do valor de mercado correspondem à 7.8% dos que recebem leads.\n"
     ]
    }
   ],
   "source": [
    "aux = df4.query('binary == 1')\n",
    "aux1 = (aux['vlr_anuncio'] / aux['vlr_mercado']).apply(lambda x: 1 if x < 0.90 else 0)\n",
    "aux2 = aux1.value_counts()[1] / len(aux)\n",
    "\n",
    "print(f'Anúncios com o valor do veículo inferior a 10% do valor de mercado correspondem à {100 * aux2:.1f}% dos que recebem leads.')"
   ]
  },
  {
   "cell_type": "markdown",
   "id": "eabdf200",
   "metadata": {},
   "source": [
    "### 5.2.9. [Verdadeiro] 09. Anúncios em que o anunciante é PJ correspondem a 60% dos que recebem leads."
   ]
  },
  {
   "cell_type": "markdown",
   "id": "4f14dca3",
   "metadata": {},
   "source": [
    "**Anúncios em que o anunciante é PJ representa 86.81% dos que recebem leads.**"
   ]
  },
  {
   "cell_type": "code",
   "execution_count": 201,
   "id": "dd380622",
   "metadata": {
    "ExecuteTime": {
     "end_time": "2022-07-31T15:12:27.085767Z",
     "start_time": "2022-07-31T15:12:26.974025Z"
    },
    "scrolled": true
   },
   "outputs": [
    {
     "name": "stdout",
     "output_type": "stream",
     "text": [
      "Anúncios em que o anunciante é PJ representa 86.81% dos que recebem leads.\n"
     ]
    },
    {
     "data": {
      "image/png": "[encoded data removed]",
      "text/plain": [
       "<Figure size 432x288 with 1 Axes>"
      ]
     },
     "metadata": {
      "needs_background": "light"
     },
     "output_type": "display_data"
    }
   ],
   "source": [
    "# tipo de anunciante: PF=1, PJ=2\n",
    "aux = df4[['cod_tipo_pessoa', 'binary']].groupby('cod_tipo_pessoa').sum().reset_index()\n",
    "aux1 = aux['binary'][1] / aux['binary'].sum()\n",
    "\n",
    "sns.barplot(x='cod_tipo_pessoa', y='binary', data=aux);\n",
    "\n",
    "print(f'Anúncios em que o anunciante é PJ representa {100 * aux1:.2f}% dos que recebem leads.')"
   ]
  },
  {
   "cell_type": "markdown",
   "id": "15351015",
   "metadata": {},
   "source": [
    "**Para os próximos ciclos, verificar quais são as caracteristicas presentes nos anúncios que são de anunciantes PF e receberam leads e comparar com os que não receberam.**"
   ]
  },
  {
   "cell_type": "markdown",
   "id": "cba46bbb",
   "metadata": {},
   "source": [
    "# 6. DATA PRE-PROCESSING"
   ]
  },
  {
   "cell_type": "code",
   "execution_count": 213,
   "id": "25b18db6",
   "metadata": {
    "ExecuteTime": {
     "end_time": "2022-07-31T15:16:51.245373Z",
     "start_time": "2022-07-31T15:16:51.233878Z"
    }
   },
   "outputs": [],
   "source": [
    "df5 = df_train.copy()"
   ]
  },
  {
   "cell_type": "markdown",
   "id": "26cb49e8",
   "metadata": {},
   "source": [
    "## 6.1. Drop Unnecessary columns & Saving IDs"
   ]
  },
  {
   "cell_type": "code",
   "execution_count": 214,
   "id": "7965a17e",
   "metadata": {
    "ExecuteTime": {
     "end_time": "2022-07-31T15:16:52.636516Z",
     "start_time": "2022-07-31T15:16:52.615679Z"
    }
   },
   "outputs": [],
   "source": [
    "# salvar código do anuncio\n",
    "cod_anuncio_cliente_column_train = df5[['cod_anuncio', 'cod_cliente']]\n",
    "\n",
    "# remover colunas que não serão utilizadas\n",
    "df5 = df5.drop(columns=['cod_anuncio', 'cod_cliente'])"
   ]
  },
  {
   "cell_type": "markdown",
   "id": "71889efa",
   "metadata": {},
   "source": [
    "## 6.2. Feature Scaling"
   ]
  },
  {
   "cell_type": "markdown",
   "id": "b2f50c97",
   "metadata": {
    "ExecuteTime": {
     "end_time": "2022-07-28T01:29:03.574628Z",
     "start_time": "2022-07-28T01:29:03.566655Z"
    }
   },
   "source": [
    "> **views | cliques_telefone* | ano_modelo | cep_2dig | vlr_anuncio | qtd_fotos | km_veiculo | vlr_mercado | portas**"
   ]
  },
  {
   "cell_type": "code",
   "execution_count": 215,
   "id": "b16a18e0",
   "metadata": {
    "ExecuteTime": {
     "end_time": "2022-07-31T15:16:55.223007Z",
     "start_time": "2022-07-31T15:16:55.091466Z"
    },
    "cell_style": "center"
   },
   "outputs": [
    {
     "data": {
      "image/png": "[encoded data removed]",
      "text/plain": [
       "<Figure size 864x360 with 2 Axes>"
      ]
     },
     "metadata": {
      "needs_background": "light"
     },
     "output_type": "display_data"
    }
   ],
   "source": [
    "# # Aplicando Scalers\n",
    "plt.gcf().set_size_inches(12,5)\n",
    "\n",
    "plt.subplot(1,2,1)\n",
    "plt.hist(df5['views']);\n",
    "\n",
    "plt.subplot(1,2,2)\n",
    "plt.boxplot(df5['views']);"
   ]
  },
  {
   "cell_type": "code",
   "execution_count": 216,
   "id": "48202169",
   "metadata": {
    "ExecuteTime": {
     "end_time": "2022-07-31T15:16:56.514907Z",
     "start_time": "2022-07-31T15:16:56.433978Z"
    }
   },
   "outputs": [],
   "source": [
    "# views\n",
    "rs_views = RobustScaler()\n",
    "df5['views'] = rs_views.fit_transform(df5[['views']])\n",
    "\n",
    "# cliques_telefone\n",
    "rs_cliques_telefone = RobustScaler() \n",
    "df5['cliques_telefone*'] = rs_cliques_telefone.fit_transform(df5[['cliques_telefone*']])\n",
    "\n",
    "# ano_modelo\n",
    "rs_ano_modelo = RobustScaler() \n",
    "df5['ano_modelo'] = rs_ano_modelo.fit_transform(df5[['ano_modelo']])\n",
    "\n",
    "# vlr_anuncio\n",
    "rs_vlr_anuncio = RobustScaler() \n",
    "df5['vlr_anuncio'] = rs_vlr_anuncio.fit_transform(df5[['vlr_anuncio']])\n",
    "\n",
    "# km_veiculo\n",
    "rs_km_veiculo = RobustScaler() \n",
    "df5['km_veiculo'] = rs_km_veiculo.fit_transform(df5[['km_veiculo']])\n",
    "\n",
    "# vlr_mercado\n",
    "rs_vlr_mercado = RobustScaler() \n",
    "df5['vlr_mercado'] = rs_vlr_mercado.fit_transform(df5[['vlr_mercado']])\n",
    "\n",
    "# portas\n",
    "rs_portas = RobustScaler() \n",
    "df5['portas'] = rs_portas.fit_transform(df5[['portas']])\n",
    "\n",
    "# cep_2dig\n",
    "mm_cep_2dig = MinMaxScaler()\n",
    "df5['cep_2dig'] = mm_cep_2dig.fit_transform(df5[['cep_2dig']])\n",
    "\n",
    "# qtd_fotos\n",
    "mm_qtd_fotos = MinMaxScaler()\n",
    "df5['qtd_fotos'] = mm_qtd_fotos.fit_transform(df5[['qtd_fotos']])"
   ]
  },
  {
   "cell_type": "markdown",
   "id": "42d17e39",
   "metadata": {},
   "source": [
    "## 6.3. Encoding"
   ]
  },
  {
   "cell_type": "code",
   "execution_count": 217,
   "id": "b3d74a7a",
   "metadata": {
    "ExecuteTime": {
     "end_time": "2022-07-31T15:16:57.768948Z",
     "start_time": "2022-07-31T15:16:57.702894Z"
    }
   },
   "outputs": [],
   "source": [
    "# # Frequency Encoding\n",
    "# cod_marca_veiculo\n",
    "frq_cod_marca_veiculo = df5.groupby('cod_marca_veiculo').size() / len(df5)\n",
    "df5['cod_marca_veiculo'] = df5['cod_marca_veiculo'].map(frq_cod_marca_veiculo)\n",
    "\n",
    "# cod_modelo_veiculo\n",
    "frq_cod_modelo_veiculo = df5.groupby('cod_modelo_veiculo').size() / len(df5)\n",
    "df5['cod_modelo_veiculo'] = df5['cod_modelo_veiculo'].map(frq_cod_modelo_veiculo)\n",
    "\n",
    "# cod_versao_veiculo\n",
    "frq_cod_versao_veiculo = df5.groupby('cod_versao_veiculo').size() / len(df5)\n",
    "df5['cod_versao_veiculo'] = df5['cod_versao_veiculo'].map(frq_cod_versao_veiculo)\n",
    "\n",
    "# uf\n",
    "frq_uf = df5.groupby('uf').size() / len(df5)\n",
    "df5['uf'] = df5['uf'].map(frq_uf)\n",
    "\n",
    "# cidade\n",
    "frq_cidade = df5.groupby('cidade').size() / len(df5)\n",
    "df5['cidade'] = df5['cidade'].map(frq_cidade)\n",
    "\n",
    "# combustivel\n",
    "frq_combustivel = df5.groupby('combustivel').size() / len(df5)\n",
    "df5['combustivel'] = df5['combustivel'].map(frq_combustivel)\n",
    "\n",
    "# cambio\n",
    "frq_cambio = df5.groupby('cambio').size() / len(df5)\n",
    "df5['cambio'] = df5['cambio'].map(frq_cambio)\n",
    "\n",
    "# qnt_opcionais\n",
    "frq_qnt_opcionais = df5.groupby('qnt_opcionais').size() / len(df5)\n",
    "df5['qnt_opcionais'] = df5['qnt_opcionais'].map(frq_qnt_opcionais)"
   ]
  },
  {
   "cell_type": "markdown",
   "id": "1c458e17",
   "metadata": {},
   "source": [
    "## 6.4. Dataset Balancing (SMOTE + Tomek Link)"
   ]
  },
  {
   "cell_type": "code",
   "execution_count": 218,
   "id": "391cacca",
   "metadata": {
    "ExecuteTime": {
     "end_time": "2022-07-31T15:17:01.740919Z",
     "start_time": "2022-07-31T15:16:58.702982Z"
    }
   },
   "outputs": [],
   "source": [
    "# definir quantidade das classes\n",
    "ratio_balanced =  {1: 25698, 0: 25600}\n",
    "    \n",
    "# definir amostragem\n",
    "smtt = c.SMOTETomek(sampling_strategy=ratio_balanced, random_state=42, n_jobs=-1)\n",
    "\n",
    "# aplicar amostragem\n",
    "x_smtt, y_smtt = smtt.fit_resample(df5, df5['binary'])\n",
    "\n",
    "# sobrescrever dados de treino\n",
    "df5 = x_smtt"
   ]
  },
  {
   "cell_type": "code",
   "execution_count": 219,
   "id": "9a72e093",
   "metadata": {
    "ExecuteTime": {
     "end_time": "2022-07-31T15:17:01.756315Z",
     "start_time": "2022-07-31T15:17:01.742906Z"
    }
   },
   "outputs": [
    {
     "data": {
      "text/plain": [
       "cod_tipo_pessoa                        int64\n",
       "prioridade                             int64\n",
       "leads                                  int64\n",
       "views                                float64\n",
       "cliques_telefone*                    float64\n",
       "cod_marca_veiculo                    float64\n",
       "cod_modelo_veiculo                   float64\n",
       "cod_versao_veiculo                   float64\n",
       "ano_modelo                           float64\n",
       "cep_2dig                             float64\n",
       "vlr_anuncio                          float64\n",
       "qtd_fotos                            float64\n",
       "km_veiculo                           float64\n",
       "vlr_mercado                          float64\n",
       "flg_unico_dono                         int64\n",
       "flg_licenciado                         int64\n",
       "flg_ipva_pago                          int64\n",
       "flg_todas_revisoes_concessionaria      int64\n",
       "flg_todas_revisoes_agenda_veiculo      int64\n",
       "flg_garantia_fabrica                   int64\n",
       "flg_blindado                           int64\n",
       "flg_aceita_troca                       int64\n",
       "flg_adaptado_pcd                       int64\n",
       "combustivel                          float64\n",
       "cambio                               float64\n",
       "portas                               float64\n",
       "alarme                                 int64\n",
       "airbag                                 int64\n",
       "arquente                               int64\n",
       "bancocouro                             int64\n",
       "arcondic                               int64\n",
       "abs                                    int64\n",
       "desembtras                             int64\n",
       "travaeletr                             int64\n",
       "vidroseletr                            int64\n",
       "rodasliga                              int64\n",
       "sensorchuva                            int64\n",
       "sensorestacion                         int64\n",
       "uf                                   float64\n",
       "cidade                               float64\n",
       "binary                                 int32\n",
       "media_leads_uf                       float64\n",
       "qnt_opcionais                        float64\n",
       "ipva_licenciamento_ok                  int64\n",
       "vlr_anuncio_inferior_mercado           int64\n",
       "dtype: object"
      ]
     },
     "execution_count": 219,
     "metadata": {},
     "output_type": "execute_result"
    }
   ],
   "source": [
    "df5.dtypes"
   ]
  },
  {
   "cell_type": "markdown",
   "id": "b0a064c6",
   "metadata": {
    "ExecuteTime": {
     "end_time": "2022-07-25T16:01:16.225706Z",
     "start_time": "2022-07-25T16:01:16.199385Z"
    }
   },
   "source": [
    "# 7. MODEL SELECTION"
   ]
  },
  {
   "cell_type": "code",
   "execution_count": 220,
   "id": "cd1890bd",
   "metadata": {
    "ExecuteTime": {
     "end_time": "2022-07-31T15:17:20.861017Z",
     "start_time": "2022-07-31T15:17:20.835195Z"
    }
   },
   "outputs": [],
   "source": [
    "df6 = df5.copy()"
   ]
  },
  {
   "cell_type": "code",
   "execution_count": 221,
   "id": "c84cf37c",
   "metadata": {
    "ExecuteTime": {
     "end_time": "2022-07-31T15:17:25.919198Z",
     "start_time": "2022-07-31T15:17:25.880957Z"
    }
   },
   "outputs": [],
   "source": [
    "# Criar X & y\n",
    "X = df6.drop(columns=['leads', 'binary'])\n",
    "y = df6[['leads', 'binary']]\n",
    "\n",
    "# Treino & Teste\n",
    "x_train, x_val, y_train, y_val = train_test_split(X, y, test_size=0.2, random_state=42)"
   ]
  },
  {
   "cell_type": "markdown",
   "id": "3756f871",
   "metadata": {},
   "source": [
    "## 7.1. Feature Importance"
   ]
  },
  {
   "cell_type": "code",
   "execution_count": 222,
   "id": "58c4839d",
   "metadata": {
    "ExecuteTime": {
     "end_time": "2022-07-31T15:17:28.616936Z",
     "start_time": "2022-07-31T15:17:27.581644Z"
    }
   },
   "outputs": [
    {
     "data": {
      "image/png": "[encoded data removed]",
      "text/plain": [
       "<Figure size 1440x1080 with 1 Axes>"
      ]
     },
     "metadata": {
      "needs_background": "light"
     },
     "output_type": "display_data"
    }
   ],
   "source": [
    "lgbm = lightgbm.LGBMClassifier(n_estimators=200)\n",
    "lgbm.fit(x_train, y_train['binary'] )\n",
    "\n",
    "feature_imp = pd.DataFrame(sorted(zip(lgbm.feature_importances_,X.columns)), columns=['Value','Feature'])\n",
    "\n",
    "plt.figure(figsize=(20, 15))\n",
    "sns.barplot(x=\"Value\", y=\"Feature\", data=feature_imp.sort_values(by=\"Value\", ascending=False))\n",
    "plt.title('LightGBM Feature Importances')\n",
    "plt.tight_layout()\n",
    "plt.show()"
   ]
  },
  {
   "cell_type": "code",
   "execution_count": 223,
   "id": "e66cac68",
   "metadata": {
    "ExecuteTime": {
     "end_time": "2022-07-31T15:17:34.626768Z",
     "start_time": "2022-07-31T15:17:34.616883Z"
    }
   },
   "outputs": [],
   "source": [
    "# colunas selecionadas pelo feature importance\n",
    "lgbm_cols_selected = feature_imp.sort_values('Value', ascending=False)['Feature'][0:16].tolist()\n",
    "\n",
    "# colunas selecionadas com base na análise exploratória dos dados\n",
    "eda_base_cols_selected = ['vlr_anuncio_inferior_mercado', 'prioridade', 'flg_ipva_pago', 'cod_tipo_pessoa', 'flg_unico_dono',\n",
    "                          'flg_aceita_troca', 'flg_licenciado', 'ipva_licenciamento_ok']\n",
    "\n",
    "# concat\n",
    "cols_selected = lgbm_cols_selected + eda_base_cols_selected"
   ]
  },
  {
   "cell_type": "markdown",
   "id": "d815b17d",
   "metadata": {
    "ExecuteTime": {
     "end_time": "2022-07-25T16:01:31.885375Z",
     "start_time": "2022-07-25T16:01:31.865627Z"
    }
   },
   "source": [
    "# 8. MACHINE LERANING"
   ]
  },
  {
   "cell_type": "code",
   "execution_count": 224,
   "id": "5a687c49",
   "metadata": {
    "ExecuteTime": {
     "end_time": "2022-07-31T15:17:53.570847Z",
     "start_time": "2022-07-31T15:17:53.553962Z"
    }
   },
   "outputs": [],
   "source": [
    "x_train_ml = x_train[cols_selected]\n",
    "x_val_ml = x_val[cols_selected]"
   ]
  },
  {
   "cell_type": "markdown",
   "id": "2487fb82",
   "metadata": {
    "ExecuteTime": {
     "end_time": "2022-07-28T18:48:20.008448Z",
     "start_time": "2022-07-28T18:48:19.983746Z"
    }
   },
   "source": [
    "## 8.1. Algorithms"
   ]
  },
  {
   "cell_type": "markdown",
   "id": "da34e56e",
   "metadata": {},
   "source": [
    "A **Acuracia** será a principal métrica utilizada para avaliar os modelos, dado que as classes foram balanceadas na etapa de pré-processamento. As métricas a seguir também serao analisadas para complementar a análise dos resultados: **Precision, Recall, F1-Score e ROC_AUC Score**."
   ]
  },
  {
   "cell_type": "markdown",
   "id": "06502186",
   "metadata": {
    "ExecuteTime": {
     "end_time": "2022-07-28T21:13:31.801303Z",
     "start_time": "2022-07-28T21:13:31.788205Z"
    }
   },
   "source": [
    "### 8.1.1. Naive Bayes"
   ]
  },
  {
   "cell_type": "code",
   "execution_count": 225,
   "id": "2f503019",
   "metadata": {
    "ExecuteTime": {
     "end_time": "2022-07-31T15:17:54.573292Z",
     "start_time": "2022-07-31T15:17:54.505678Z"
    }
   },
   "outputs": [],
   "source": [
    "# instanciar modelo\n",
    "nb_model = GaussianNB()\n",
    "\n",
    "# treinar\n",
    "nb_model.fit(x_train_ml, y_train['binary'])\n",
    "\n",
    "# prediction\n",
    "y_pred_nb = nb_model.predict(x_val_ml)\n",
    "\n",
    "# calcula métricas\n",
    "nb_metrics = compute_metrics(y_val['binary'], y_pred_nb, 'Naive Bayes')"
   ]
  },
  {
   "cell_type": "markdown",
   "id": "a7ff5cc0",
   "metadata": {},
   "source": [
    "### 8.1.2. Random Forest"
   ]
  },
  {
   "cell_type": "code",
   "execution_count": 226,
   "id": "c602a301",
   "metadata": {
    "ExecuteTime": {
     "end_time": "2022-07-31T15:18:00.134342Z",
     "start_time": "2022-07-31T15:17:57.278688Z"
    }
   },
   "outputs": [],
   "source": [
    "# instanciar modelo\n",
    "rf_model = RandomForestClassifier(n_jobs=-1,\n",
    "                                  n_estimators=200)\n",
    "\n",
    "# treinar\n",
    "rf_model.fit(x_train_ml, y_train['binary'])\n",
    "\n",
    "# prediction\n",
    "y_pred_rf = rf_model.predict(x_val_ml)\n",
    "\n",
    "# calcula métricas\n",
    "rf_metrics = compute_metrics(y_val['binary'], y_pred_rf, 'Random Forest')"
   ]
  },
  {
   "cell_type": "markdown",
   "id": "6b76a8d7",
   "metadata": {},
   "source": [
    "### 8.1.3. LightGBM "
   ]
  },
  {
   "cell_type": "code",
   "execution_count": 227,
   "id": "55597e10",
   "metadata": {
    "ExecuteTime": {
     "end_time": "2022-07-31T15:18:00.733814Z",
     "start_time": "2022-07-31T15:18:00.135939Z"
    }
   },
   "outputs": [],
   "source": [
    "# instanciar modelo\n",
    "lgbm_model = lightgbm.LGBMClassifier(n_estimators=200)\n",
    "\n",
    "# treinar\n",
    "lgbm_model.fit(x_train_ml, y_train['binary'])\n",
    "\n",
    "# predict\n",
    "y_pred_lgbm = lgbm_model.predict(x_val_ml)\n",
    "y_pred_proba_lgbm = lgbm_model.predict_proba(x_val_ml)\n",
    "\n",
    "# calcula métricas\n",
    "lgbm_metrics = compute_metrics(y_val['binary'], y_pred_lgbm, 'LightGBM')"
   ]
  },
  {
   "cell_type": "markdown",
   "id": "09e8109c",
   "metadata": {},
   "source": [
    "## 8.2. Cross-Validation"
   ]
  },
  {
   "cell_type": "code",
   "execution_count": 230,
   "id": "0f6f0bee",
   "metadata": {
    "ExecuteTime": {
     "end_time": "2022-07-31T15:19:34.618886Z",
     "start_time": "2022-07-31T15:19:34.605406Z"
    }
   },
   "outputs": [],
   "source": [
    "# merge datasets de treino e validação\n",
    "X = pd.concat([x_train_ml, x_val_ml], axis=0)\n",
    "y = pd.concat([y_train['binary'], y_val['binary']], axis=0)"
   ]
  },
  {
   "cell_type": "code",
   "execution_count": 232,
   "id": "34f4b652",
   "metadata": {
    "ExecuteTime": {
     "end_time": "2022-07-31T15:45:07.142940Z",
     "start_time": "2022-07-31T15:19:38.045892Z"
    }
   },
   "outputs": [],
   "source": [
    "# instanciar cv\n",
    "cv = RepeatedKFold(n_splits=15, n_repeats=5, random_state=42)\n",
    "\n",
    "# cv para os três modelos\n",
    "cv_nb   = cross_validation(nb_model, 'Naive Bayes', X, y, cv)\n",
    "cv_rf   = cross_validation(rf_model, 'Random Forest', X, y, cv)\n",
    "cv_lgbm = cross_validation(lgbm_model, 'LightGBM', X, y, cv)"
   ]
  },
  {
   "cell_type": "markdown",
   "id": "4a78227a",
   "metadata": {},
   "source": [
    "## 8.3. CV Comparison"
   ]
  },
  {
   "cell_type": "markdown",
   "id": "fa16841d",
   "metadata": {},
   "source": [
    "**Sem Cross-Validation:**"
   ]
  },
  {
   "cell_type": "code",
   "execution_count": 237,
   "id": "65613ff3",
   "metadata": {
    "ExecuteTime": {
     "end_time": "2022-07-31T15:46:32.025813Z",
     "start_time": "2022-07-31T15:46:32.005880Z"
    },
    "hide_input": true
   },
   "outputs": [
    {
     "data": {
      "text/html": [
       "<div>\n",
       "<style scoped>\n",
       "    .dataframe tbody tr th:only-of-type {\n",
       "        vertical-align: middle;\n",
       "    }\n",
       "\n",
       "    .dataframe tbody tr th {\n",
       "        vertical-align: top;\n",
       "    }\n",
       "\n",
       "    .dataframe thead th {\n",
       "        text-align: right;\n",
       "    }\n",
       "</style>\n",
       "<table border=\"1\" class=\"dataframe\">\n",
       "  <thead>\n",
       "    <tr style=\"text-align: right;\">\n",
       "      <th></th>\n",
       "      <th>Model</th>\n",
       "      <th>Precision (Avg+Std)</th>\n",
       "      <th>Recall (Avg+Std)</th>\n",
       "      <th>F1-Score (Avg+Std)</th>\n",
       "      <th>ROC-AUC (Avg+Std)</th>\n",
       "      <th>Accuracy (Avg+Std)</th>\n",
       "    </tr>\n",
       "  </thead>\n",
       "  <tbody>\n",
       "    <tr>\n",
       "      <th>0</th>\n",
       "      <td>Naive Bayes</td>\n",
       "      <td>0.714</td>\n",
       "      <td>0.176</td>\n",
       "      <td>0.283</td>\n",
       "      <td>0.552</td>\n",
       "      <td>0.550</td>\n",
       "    </tr>\n",
       "    <tr>\n",
       "      <th>0</th>\n",
       "      <td>Random Forest</td>\n",
       "      <td>0.797</td>\n",
       "      <td>0.966</td>\n",
       "      <td>0.873</td>\n",
       "      <td>0.858</td>\n",
       "      <td>0.859</td>\n",
       "    </tr>\n",
       "    <tr>\n",
       "      <th>0</th>\n",
       "      <td>LightGBM</td>\n",
       "      <td>0.780</td>\n",
       "      <td>0.996</td>\n",
       "      <td>0.875</td>\n",
       "      <td>0.855</td>\n",
       "      <td>0.856</td>\n",
       "    </tr>\n",
       "  </tbody>\n",
       "</table>\n",
       "</div>"
      ],
      "text/plain": [
       "           Model Precision (Avg+Std) Recall (Avg+Std) F1-Score (Avg+Std)  \\\n",
       "0    Naive Bayes               0.714            0.176              0.283   \n",
       "0  Random Forest               0.797            0.966              0.873   \n",
       "0       LightGBM               0.780            0.996              0.875   \n",
       "\n",
       "  ROC-AUC (Avg+Std) Accuracy (Avg+Std)  \n",
       "0             0.552              0.550  \n",
       "0             0.858              0.859  \n",
       "0             0.855              0.856  "
      ]
     },
     "execution_count": 237,
     "metadata": {},
     "output_type": "execute_result"
    }
   ],
   "source": [
    "pd.concat([nb_metrics, rf_metrics, lgbm_metrics], axis=0)"
   ]
  },
  {
   "cell_type": "markdown",
   "id": "70f8a240",
   "metadata": {},
   "source": [
    "**Com Cross-Validation:**"
   ]
  },
  {
   "cell_type": "code",
   "execution_count": 238,
   "id": "3eaa5a08",
   "metadata": {
    "ExecuteTime": {
     "end_time": "2022-07-31T15:46:32.976011Z",
     "start_time": "2022-07-31T15:46:32.951050Z"
    },
    "hide_input": true
   },
   "outputs": [
    {
     "data": {
      "text/html": [
       "<div>\n",
       "<style scoped>\n",
       "    .dataframe tbody tr th:only-of-type {\n",
       "        vertical-align: middle;\n",
       "    }\n",
       "\n",
       "    .dataframe tbody tr th {\n",
       "        vertical-align: top;\n",
       "    }\n",
       "\n",
       "    .dataframe thead th {\n",
       "        text-align: right;\n",
       "    }\n",
       "</style>\n",
       "<table border=\"1\" class=\"dataframe\">\n",
       "  <thead>\n",
       "    <tr style=\"text-align: right;\">\n",
       "      <th></th>\n",
       "      <th>Model</th>\n",
       "      <th>Precision (Avg+Std)</th>\n",
       "      <th>Recall (Avg+Std)</th>\n",
       "      <th>F1-Score (Avg+Std)</th>\n",
       "      <th>ROC-AUC (Avg+Std)</th>\n",
       "      <th>Accuracy (Avg+Std)</th>\n",
       "    </tr>\n",
       "  </thead>\n",
       "  <tbody>\n",
       "    <tr>\n",
       "      <th>0</th>\n",
       "      <td>Naive Bayes</td>\n",
       "      <td>0.722 +/- %0.022</td>\n",
       "      <td>0.176 +/- %0.010</td>\n",
       "      <td>0.282 +/- %0.013</td>\n",
       "      <td>0.615 +/- %0.009</td>\n",
       "      <td>0.553 +/- %0.008</td>\n",
       "    </tr>\n",
       "    <tr>\n",
       "      <th>0</th>\n",
       "      <td>Random Forest</td>\n",
       "      <td>0.801 +/- %0.009</td>\n",
       "      <td>0.971 +/- %0.005</td>\n",
       "      <td>0.878 +/- %0.006</td>\n",
       "      <td>0.919 +/- %0.005</td>\n",
       "      <td>0.865 +/- %0.006</td>\n",
       "    </tr>\n",
       "    <tr>\n",
       "      <th>0</th>\n",
       "      <td>LightGBM</td>\n",
       "      <td>0.778 +/- %0.009</td>\n",
       "      <td>0.996 +/- %0.001</td>\n",
       "      <td>0.874 +/- %0.006</td>\n",
       "      <td>0.888 +/- %0.005</td>\n",
       "      <td>0.856 +/- %0.006</td>\n",
       "    </tr>\n",
       "  </tbody>\n",
       "</table>\n",
       "</div>"
      ],
      "text/plain": [
       "           Model Precision (Avg+Std)  Recall (Avg+Std) F1-Score (Avg+Std)  \\\n",
       "0    Naive Bayes    0.722 +/- %0.022  0.176 +/- %0.010   0.282 +/- %0.013   \n",
       "0  Random Forest    0.801 +/- %0.009  0.971 +/- %0.005   0.878 +/- %0.006   \n",
       "0       LightGBM    0.778 +/- %0.009  0.996 +/- %0.001   0.874 +/- %0.006   \n",
       "\n",
       "  ROC-AUC (Avg+Std) Accuracy (Avg+Std)  \n",
       "0  0.615 +/- %0.009   0.553 +/- %0.008  \n",
       "0  0.919 +/- %0.005   0.865 +/- %0.006  \n",
       "0  0.888 +/- %0.005   0.856 +/- %0.006  "
      ]
     },
     "execution_count": 238,
     "metadata": {},
     "output_type": "execute_result"
    }
   ],
   "source": [
    "pd.concat([cv_nb, cv_rf, cv_lgbm], axis=0)"
   ]
  },
  {
   "cell_type": "markdown",
   "id": "7b0613c4",
   "metadata": {},
   "source": [
    "**Tamanho do Modelo Treinado:**"
   ]
  },
  {
   "cell_type": "code",
   "execution_count": 235,
   "id": "d10a8119",
   "metadata": {
    "ExecuteTime": {
     "end_time": "2022-07-31T15:46:25.765808Z",
     "start_time": "2022-07-31T15:46:25.400535Z"
    },
    "hide_input": true
   },
   "outputs": [
    {
     "data": {
      "text/html": [
       "<div>\n",
       "<style scoped>\n",
       "    .dataframe tbody tr th:only-of-type {\n",
       "        vertical-align: middle;\n",
       "    }\n",
       "\n",
       "    .dataframe tbody tr th {\n",
       "        vertical-align: top;\n",
       "    }\n",
       "\n",
       "    .dataframe thead th {\n",
       "        text-align: right;\n",
       "    }\n",
       "</style>\n",
       "<table border=\"1\" class=\"dataframe\">\n",
       "  <thead>\n",
       "    <tr style=\"text-align: right;\">\n",
       "      <th></th>\n",
       "      <th>Modelo</th>\n",
       "      <th>TamanhoMB</th>\n",
       "    </tr>\n",
       "  </thead>\n",
       "  <tbody>\n",
       "    <tr>\n",
       "      <th>0</th>\n",
       "      <td>Naive Bayes</td>\n",
       "      <td>0.00</td>\n",
       "    </tr>\n",
       "    <tr>\n",
       "      <th>1</th>\n",
       "      <td>Random Forest</td>\n",
       "      <td>171.03</td>\n",
       "    </tr>\n",
       "    <tr>\n",
       "      <th>2</th>\n",
       "      <td>LightGBM</td>\n",
       "      <td>0.66</td>\n",
       "    </tr>\n",
       "  </tbody>\n",
       "</table>\n",
       "</div>"
      ],
      "text/plain": [
       "          Modelo  TamanhoMB\n",
       "0    Naive Bayes       0.00\n",
       "1  Random Forest     171.03\n",
       "2       LightGBM       0.66"
      ]
     },
     "execution_count": 235,
     "metadata": {},
     "output_type": "execute_result"
    }
   ],
   "source": [
    "pd.DataFrame({'Modelo': ['Naive Bayes', 'Random Forest', 'LightGBM'], \n",
    "              'TamanhoMB': [get_size(nb_model), get_size(rf_model), get_size(lgbm_model)]})"
   ]
  },
  {
   "cell_type": "markdown",
   "id": "d597c2a7",
   "metadata": {},
   "source": [
    "**Diante dos resultados apresentados, o modelo criado utilizando o LightGBM será o utilizado, avançando para a etapa de tunagem dos hiperparametros.** "
   ]
  },
  {
   "cell_type": "markdown",
   "id": "665e24ca",
   "metadata": {},
   "source": [
    "## 8.4. Hyperparameter Fine Tuning"
   ]
  },
  {
   "cell_type": "markdown",
   "id": "90e3a735",
   "metadata": {},
   "source": [
    "### 8.4.1 Bayesian Search"
   ]
  },
  {
   "cell_type": "code",
   "execution_count": 270,
   "id": "4bd33437",
   "metadata": {
    "ExecuteTime": {
     "end_time": "2022-07-31T16:50:39.700275Z",
     "start_time": "2022-07-31T16:03:20.781375Z"
    }
   },
   "outputs": [],
   "source": [
    "# espaço de pesquisa\n",
    "params = {'boosting_type': ['gbdt', 'dart', 'goss'],\n",
    "          'n_estimators': np.arange(50, 251),\n",
    "          'learning_rate': np.arange(0.01, 0.11, 0.01),\n",
    "          'num_leaves': np.arange(5, 31),\n",
    "          'max_depth': np.arange(5, 201)} \n",
    "\n",
    "# Cross-validation\n",
    "cv = RepeatedKFold(n_splits=15, \n",
    "                   n_repeats=10, \n",
    "                   random_state=42)\n",
    "\n",
    "# instanciando o Bayesian Search\n",
    "search = BayesSearchCV(estimator=lightgbm.LGBMClassifier(), \n",
    "                       search_spaces=params, \n",
    "                       n_jobs=-1, \n",
    "                       cv=cv)\n",
    "\n",
    "# fit\n",
    "search.fit(X, y);"
   ]
  },
  {
   "cell_type": "code",
   "execution_count": 272,
   "id": "59e2b51c",
   "metadata": {
    "ExecuteTime": {
     "end_time": "2022-07-31T16:51:53.251228Z",
     "start_time": "2022-07-31T16:51:53.230799Z"
    }
   },
   "outputs": [
    {
     "data": {
      "text/plain": [
       "OrderedDict([('boosting_type', 'gbdt'),\n",
       "             ('learning_rate', 0.08),\n",
       "             ('max_depth', 149),\n",
       "             ('n_estimators', 236),\n",
       "             ('num_leaves', 22)])"
      ]
     },
     "execution_count": 272,
     "metadata": {},
     "output_type": "execute_result"
    }
   ],
   "source": [
    "# melhores parâmetros encontrados\n",
    "search.best_params_"
   ]
  },
  {
   "cell_type": "markdown",
   "id": "8e6eed45",
   "metadata": {},
   "source": [
    "### 8.4.2. Model Tuned"
   ]
  },
  {
   "cell_type": "code",
   "execution_count": 273,
   "id": "2f069c2e",
   "metadata": {
    "ExecuteTime": {
     "end_time": "2022-07-31T16:52:12.966821Z",
     "start_time": "2022-07-31T16:52:12.428934Z"
    }
   },
   "outputs": [],
   "source": [
    "# instanciar modelo\n",
    "lgbm_model_tuned = lightgbm.LGBMClassifier(boosting_type='gbdt',\n",
    "                                           learning_rate=0.08,\n",
    "                                           max_depth=149,\n",
    "                                           n_estimators=236,\n",
    "                                           num_leaves=22)\n",
    "\n",
    "# treinar\n",
    "lgbm_model_tuned.fit(x_train_ml, y_train['binary'])\n",
    "\n",
    "# predict\n",
    "y_pred_lgbm_tuned = lgbm_model_tuned.predict(x_val_ml)\n",
    "y_pred_proba_lgbm_tuned = lgbm_model_tuned.predict_proba(x_val_ml)\n",
    "\n",
    "# calcula métricas\n",
    "lgbm_metrics = compute_metrics(y_val['binary'], y_pred_lgbm_tuned, 'LightGBM - Tuned')"
   ]
  },
  {
   "cell_type": "markdown",
   "id": "9feb45fb",
   "metadata": {},
   "source": [
    "### 8.4.3. Confusion Matrix Comparison"
   ]
  },
  {
   "cell_type": "code",
   "execution_count": 274,
   "id": "37457d36",
   "metadata": {
    "ExecuteTime": {
     "end_time": "2022-07-31T16:52:14.468808Z",
     "start_time": "2022-07-31T16:52:14.366824Z"
    }
   },
   "outputs": [
    {
     "data": {
      "image/png": "[encoded data removed]",
      "text/plain": [
       "<Figure size 432x288 with 2 Axes>"
      ]
     },
     "metadata": {
      "needs_background": "light"
     },
     "output_type": "display_data"
    }
   ],
   "source": [
    "# gerando CM e plotando\n",
    "cm_stand = plot_cm(y_val['binary'], y_pred_lgbm, lgbm_model)\n",
    "cm_stand"
   ]
  },
  {
   "cell_type": "code",
   "execution_count": 275,
   "id": "e4e2ace3",
   "metadata": {
    "ExecuteTime": {
     "end_time": "2022-07-31T16:52:15.143424Z",
     "start_time": "2022-07-31T16:52:15.003338Z"
    }
   },
   "outputs": [
    {
     "data": {
      "image/png": "[encoded data removed]",
      "text/plain": [
       "<Figure size 432x288 with 2 Axes>"
      ]
     },
     "metadata": {
      "needs_background": "light"
     },
     "output_type": "display_data"
    }
   ],
   "source": [
    "# gerando CM e plotando\n",
    "cm_tuned = plot_cm(y_val['binary'], y_pred_lgbm_tuned, lgbm_model_tuned)\n",
    "cm_tuned"
   ]
  },
  {
   "cell_type": "markdown",
   "id": "8765ff50",
   "metadata": {},
   "source": [
    "### 8.4.4. ROC Curve Comparison"
   ]
  },
  {
   "cell_type": "markdown",
   "id": "191213a5",
   "metadata": {
    "hide_input": true
   },
   "source": [
    "Código retirado da internet para plotar a Curva ROC"
   ]
  },
  {
   "cell_type": "code",
   "execution_count": 276,
   "id": "c8d31088",
   "metadata": {
    "ExecuteTime": {
     "end_time": "2022-07-31T16:52:16.954107Z",
     "start_time": "2022-07-31T16:52:16.831790Z"
    },
    "hide_input": true
   },
   "outputs": [
    {
     "data": {
      "image/png": "[encoded data removed]",
      "text/plain": [
       "<Figure size 864x576 with 1 Axes>"
      ]
     },
     "metadata": {
      "needs_background": "light"
     },
     "output_type": "display_data"
    }
   ],
   "source": [
    "# use the variable ax for single a Axes\n",
    "fig, ax = plt.subplots()\n",
    "\n",
    "# sets the figure size in inches\n",
    "ax.figure.set_size_inches(12, 8)\n",
    "\n",
    "# generate a no skill prediction (majority class)\n",
    "ns_probs = [0 for _ in range(len(y_val['binary']))]\n",
    "\n",
    "# calculates the roc curves\n",
    "ns_fpr, ns_tpr, _ = roc_curve(y_val['binary'], ns_probs)\n",
    "lgbm_fpr, lgbm_tpr, _ = roc_curve(y_val['binary'], y_pred_proba_lgbm[:,1])\n",
    "tuned_lgbm_fpr, tuned_lgbm_tpr, _ = roc_curve(y_val['binary'], y_pred_proba_lgbm_tuned[:,1])\n",
    "\n",
    "# plots the roc curve for the model\n",
    "plt.plot(ns_fpr, ns_tpr, linestyle='--',linewidth=2, label='Aleatory Model')\n",
    "plt.plot(lgbm_fpr, lgbm_tpr, marker=',',linewidth=2, label='LGBM')\n",
    "plt.plot(tuned_lgbm_fpr, tuned_lgbm_tpr, marker=',',linewidth=2, label='LGBM Tuned')\n",
    "\n",
    "# sets plot features\n",
    "plt.title(\"ROC Curve\", fontsize=14)\n",
    "plt.xlabel('False Positive Rate')\n",
    "plt.ylabel('True Positive Rate')\n",
    "\n",
    "# displays the legend\n",
    "plt.legend()\n",
    "\n",
    "# displays the plot\n",
    "plt.show();"
   ]
  },
  {
   "cell_type": "markdown",
   "id": "ddf0c551",
   "metadata": {
    "hide_input": false
   },
   "source": [
    "### 8.5.5. Cross-Validation Comparison"
   ]
  },
  {
   "cell_type": "code",
   "execution_count": 277,
   "id": "6543fa25",
   "metadata": {
    "ExecuteTime": {
     "end_time": "2022-07-31T16:52:31.594553Z",
     "start_time": "2022-07-31T16:52:17.572546Z"
    },
    "hide_input": true
   },
   "outputs": [
    {
     "data": {
      "text/html": [
       "<div>\n",
       "<style scoped>\n",
       "    .dataframe tbody tr th:only-of-type {\n",
       "        vertical-align: middle;\n",
       "    }\n",
       "\n",
       "    .dataframe tbody tr th {\n",
       "        vertical-align: top;\n",
       "    }\n",
       "\n",
       "    .dataframe thead th {\n",
       "        text-align: right;\n",
       "    }\n",
       "</style>\n",
       "<table border=\"1\" class=\"dataframe\">\n",
       "  <thead>\n",
       "    <tr style=\"text-align: right;\">\n",
       "      <th></th>\n",
       "      <th>Model</th>\n",
       "      <th>Precision (Avg+Std)</th>\n",
       "      <th>Recall (Avg+Std)</th>\n",
       "      <th>F1-Score (Avg+Std)</th>\n",
       "      <th>ROC-AUC (Avg+Std)</th>\n",
       "      <th>Accuracy (Avg+Std)</th>\n",
       "    </tr>\n",
       "  </thead>\n",
       "  <tbody>\n",
       "    <tr>\n",
       "      <th>0</th>\n",
       "      <td>LightGBM</td>\n",
       "      <td>0.779 +/- %0.001</td>\n",
       "      <td>0.990 +/- %0.001</td>\n",
       "      <td>0.872 +/- %0.001</td>\n",
       "      <td>0.886 +/- %0.001</td>\n",
       "      <td>0.854 +/- %0.001</td>\n",
       "    </tr>\n",
       "    <tr>\n",
       "      <th>0</th>\n",
       "      <td>LightGBM - Tuned</td>\n",
       "      <td>0.778 +/- %0.001</td>\n",
       "      <td>0.995 +/- %0.000</td>\n",
       "      <td>0.873 +/- %0.001</td>\n",
       "      <td>0.886 +/- %0.000</td>\n",
       "      <td>0.855 +/- %0.001</td>\n",
       "    </tr>\n",
       "  </tbody>\n",
       "</table>\n",
       "</div>"
      ],
      "text/plain": [
       "              Model Precision (Avg+Std)  Recall (Avg+Std) F1-Score (Avg+Std)  \\\n",
       "0          LightGBM    0.779 +/- %0.001  0.990 +/- %0.001   0.872 +/- %0.001   \n",
       "0  LightGBM - Tuned    0.778 +/- %0.001  0.995 +/- %0.000   0.873 +/- %0.001   \n",
       "\n",
       "  ROC-AUC (Avg+Std) Accuracy (Avg+Std)  \n",
       "0  0.886 +/- %0.001   0.854 +/- %0.001  \n",
       "0  0.886 +/- %0.000   0.855 +/- %0.001  "
      ]
     },
     "execution_count": 277,
     "metadata": {},
     "output_type": "execute_result"
    }
   ],
   "source": [
    "# define K-fold\n",
    "cv = RepeatedKFold(n_splits=2, n_repeats=1, random_state=1)\n",
    "\n",
    "# aplica o cv nos modelos com e sem hptune\n",
    "st_lgbm = cross_validation(lgbm_model, 'LightGBM', X, y, cv)\n",
    "cv_lgbm = cross_validation(lgbm_model_tuned, 'LightGBM - Tuned', X, y, cv)\n",
    "\n",
    "# concatenar para exibir a tabela\n",
    "pd.concat([st_lgbm, cv_lgbm], axis=0)"
   ]
  },
  {
   "cell_type": "markdown",
   "id": "01b73644",
   "metadata": {},
   "source": [
    "# 9. EVALUATE"
   ]
  },
  {
   "cell_type": "markdown",
   "id": "b52d659b",
   "metadata": {},
   "source": [
    "## 9.1. Test Dataset Evaluation"
   ]
  },
  {
   "cell_type": "markdown",
   "id": "fe1e2f23",
   "metadata": {},
   "source": [
    "Aplicação de todo o pipeline de limpezas e transformações desenvolvidas no projeto para os dados de teste."
   ]
  },
  {
   "cell_type": "code",
   "execution_count": 278,
   "id": "8249c5e7",
   "metadata": {
    "ExecuteTime": {
     "end_time": "2022-07-31T16:52:31.609970Z",
     "start_time": "2022-07-31T16:52:31.597958Z"
    }
   },
   "outputs": [],
   "source": [
    "x_test = df_test.copy()"
   ]
  },
  {
   "cell_type": "code",
   "execution_count": 279,
   "id": "76f16044",
   "metadata": {
    "ExecuteTime": {
     "end_time": "2022-07-31T16:52:31.656565Z",
     "start_time": "2022-07-31T16:52:31.612857Z"
    }
   },
   "outputs": [],
   "source": [
    "x_test.dropna(inplace=True)"
   ]
  },
  {
   "cell_type": "code",
   "execution_count": 280,
   "id": "55cc0648",
   "metadata": {
    "ExecuteTime": {
     "end_time": "2022-07-31T16:52:31.671463Z",
     "start_time": "2022-07-31T16:52:31.661627Z"
    }
   },
   "outputs": [],
   "source": [
    "df_test = x_test.copy().reset_index()"
   ]
  },
  {
   "cell_type": "code",
   "execution_count": 281,
   "id": "080eba93",
   "metadata": {
    "ExecuteTime": {
     "end_time": "2022-07-31T16:52:31.686906Z",
     "start_time": "2022-07-31T16:52:31.673984Z"
    }
   },
   "outputs": [],
   "source": [
    "x_test['binary'] = np.where(x_test['leads'] > 0, 1, 0)\n",
    "y_test = x_test['binary']"
   ]
  },
  {
   "cell_type": "code",
   "execution_count": 282,
   "id": "0263fc73",
   "metadata": {
    "ExecuteTime": {
     "end_time": "2022-07-31T16:52:31.702754Z",
     "start_time": "2022-07-31T16:52:31.689839Z"
    }
   },
   "outputs": [],
   "source": [
    "x_test = x_test.drop(columns=['leads', 'binary'])"
   ]
  },
  {
   "cell_type": "code",
   "execution_count": 283,
   "id": "70e1bf2c",
   "metadata": {
    "ExecuteTime": {
     "end_time": "2022-07-31T16:52:31.717741Z",
     "start_time": "2022-07-31T16:52:31.706726Z"
    }
   },
   "outputs": [],
   "source": [
    "x_test['flg_ipva_pago'] = x_test['flg_ipva_pago'].astype('int64')                 \n",
    "x_test['flg_todas_revisoes_concessionaria'] = x_test['flg_todas_revisoes_concessionaria'].astype('int64')\n",
    "x_test['flg_garantia_fabrica'] = x_test['flg_garantia_fabrica'].astype('int64')\n",
    "x_test['flg_adaptado_pcd'] = x_test['flg_adaptado_pcd'].astype('int64')"
   ]
  },
  {
   "cell_type": "code",
   "execution_count": 284,
   "id": "edc78718",
   "metadata": {
    "ExecuteTime": {
     "end_time": "2022-07-31T16:52:31.763844Z",
     "start_time": "2022-07-31T16:52:31.720155Z"
    }
   },
   "outputs": [],
   "source": [
    "x_test['alarme'] = bin_change(x_test['alarme'])        \n",
    "x_test['airbag'] = bin_change(x_test['airbag'])        \n",
    "x_test['arquente'] = bin_change(x_test['arquente'])      \n",
    "x_test['bancocouro'] = bin_change(x_test['bancocouro'])    \n",
    "x_test['arcondic'] = bin_change(x_test['arcondic'])      \n",
    "x_test['abs'] = bin_change(x_test['abs'])           \n",
    "x_test['desembtras'] = bin_change(x_test['desembtras'])    \n",
    "x_test['travaeletr'] = bin_change(x_test['travaeletr'])    \n",
    "x_test['vidroseletr'] = bin_change(x_test['vidroseletr'])   \n",
    "x_test['rodasliga'] = bin_change(x_test['rodasliga'])     \n",
    "x_test['sensorchuva'] = bin_change(x_test['sensorchuva'])   \n",
    "x_test['sensorestacion'] = bin_change(x_test['sensorestacion'])"
   ]
  },
  {
   "cell_type": "code",
   "execution_count": 285,
   "id": "f1c507d7",
   "metadata": {
    "ExecuteTime": {
     "end_time": "2022-07-31T16:52:31.794719Z",
     "start_time": "2022-07-31T16:52:31.769865Z"
    }
   },
   "outputs": [],
   "source": [
    "x_test['uf'] = x_test['uf_cidade'].apply(lambda x: x.split('_')[0])\n",
    "x_test['cidade'] = x_test['uf_cidade'].apply(lambda x: x.split('_')[1])"
   ]
  },
  {
   "cell_type": "code",
   "execution_count": 286,
   "id": "45567696",
   "metadata": {
    "ExecuteTime": {
     "end_time": "2022-07-31T16:52:31.810032Z",
     "start_time": "2022-07-31T16:52:31.800099Z"
    }
   },
   "outputs": [],
   "source": [
    "x_test['media_leads_uf'] = x_test['uf'].map(media_leads_uf_dict)"
   ]
  },
  {
   "cell_type": "code",
   "execution_count": 287,
   "id": "649a4cd8",
   "metadata": {
    "ExecuteTime": {
     "end_time": "2022-07-31T16:52:31.840904Z",
     "start_time": "2022-07-31T16:52:31.812516Z"
    }
   },
   "outputs": [],
   "source": [
    "x_test['qnt_opcionais'] = x_test[['flg_blindado', 'alarme', 'airbag', 'arquente', 'bancocouro', 'arcondic', 'abs',\n",
    "                            'desembtras', 'travaeletr', 'vidroseletr', 'rodasliga', 'sensorchuva', \n",
    "                            'sensorestacion']].sum(axis = 1).astype(str)"
   ]
  },
  {
   "cell_type": "code",
   "execution_count": 288,
   "id": "05ed14ec",
   "metadata": {
    "ExecuteTime": {
     "end_time": "2022-07-31T16:52:31.871697Z",
     "start_time": "2022-07-31T16:52:31.843310Z"
    }
   },
   "outputs": [],
   "source": [
    "aux = x_test[['flg_licenciado', 'flg_ipva_pago']].sum(axis=1)\n",
    "x_test['ipva_licenciamento_ok'] = aux.apply(lambda x: 1 if x == 2 else 0)"
   ]
  },
  {
   "cell_type": "code",
   "execution_count": 289,
   "id": "db22c50a",
   "metadata": {
    "ExecuteTime": {
     "end_time": "2022-07-31T16:52:31.902446Z",
     "start_time": "2022-07-31T16:52:31.877655Z"
    }
   },
   "outputs": [],
   "source": [
    "x_test['vlr_anuncio_inferior_mercado'] = (x_test['vlr_anuncio'] / x_test['vlr_mercado']).apply(lambda x: 1 if x <= 1 else 0)"
   ]
  },
  {
   "cell_type": "code",
   "execution_count": 290,
   "id": "eaac5e0a",
   "metadata": {
    "ExecuteTime": {
     "end_time": "2022-07-31T16:52:31.933287Z",
     "start_time": "2022-07-31T16:52:31.908372Z"
    }
   },
   "outputs": [],
   "source": [
    "x_test = x_test.drop(columns='uf_cidade')"
   ]
  },
  {
   "cell_type": "code",
   "execution_count": 291,
   "id": "da6ece06",
   "metadata": {
    "ExecuteTime": {
     "end_time": "2022-07-31T16:52:31.948687Z",
     "start_time": "2022-07-31T16:52:31.936185Z"
    }
   },
   "outputs": [],
   "source": [
    "cod_anuncio_e_cod_cliente_column = x_test[['cod_anuncio', 'cod_cliente']]"
   ]
  },
  {
   "cell_type": "code",
   "execution_count": 292,
   "id": "d7de3a9f",
   "metadata": {
    "ExecuteTime": {
     "end_time": "2022-07-31T16:52:31.964042Z",
     "start_time": "2022-07-31T16:52:31.952080Z"
    }
   },
   "outputs": [],
   "source": [
    "x_test = x_test.drop(columns=['cod_anuncio', 'cod_cliente'])"
   ]
  },
  {
   "cell_type": "code",
   "execution_count": 293,
   "id": "404d9e7b",
   "metadata": {
    "ExecuteTime": {
     "end_time": "2022-07-31T16:52:32.010271Z",
     "start_time": "2022-07-31T16:52:31.968966Z"
    }
   },
   "outputs": [],
   "source": [
    "rs_views = RobustScaler()\n",
    "rs_cliques_telefone = RobustScaler() \n",
    "rs_ano_modelo = RobustScaler() \n",
    "rs_vlr_anuncio = RobustScaler() \n",
    "rs_km_veiculo = RobustScaler() \n",
    "rs_vlr_mercado = RobustScaler() \n",
    "rs_portas = RobustScaler() \n",
    "mm_cep_2dig = MinMaxScaler()\n",
    "mm_qtd_fotos = MinMaxScaler()\n",
    "\n",
    "x_test['views'] = rs_views.fit_transform(x_test[['views']])\n",
    "x_test['cliques_telefone*'] = rs_cliques_telefone.fit_transform(x_test[['cliques_telefone*']])\n",
    "x_test['ano_modelo'] = rs_ano_modelo.fit_transform(x_test[['ano_modelo']])\n",
    "x_test['vlr_anuncio'] = rs_vlr_anuncio.fit_transform(x_test[['vlr_anuncio']])\n",
    "x_test['km_veiculo'] = rs_km_veiculo.fit_transform(x_test[['km_veiculo']])\n",
    "x_test['vlr_mercado'] = rs_vlr_mercado.fit_transform(x_test[['vlr_mercado']])\n",
    "x_test['portas'] = rs_portas.fit_transform(x_test[['portas']])\n",
    "x_test['cep_2dig'] = mm_cep_2dig.fit_transform(x_test[['cep_2dig']])\n",
    "x_test['qtd_fotos'] = mm_qtd_fotos.fit_transform(x_test[['qtd_fotos']])"
   ]
  },
  {
   "cell_type": "code",
   "execution_count": 294,
   "id": "8851c96e",
   "metadata": {
    "ExecuteTime": {
     "end_time": "2022-07-31T16:52:32.055959Z",
     "start_time": "2022-07-31T16:52:32.012258Z"
    }
   },
   "outputs": [],
   "source": [
    "frq_cod_marca_veiculo = x_test.groupby('cod_marca_veiculo').size() / len(x_test)\n",
    "frq_cod_modelo_veiculo = x_test.groupby('cod_modelo_veiculo').size() / len(x_test)\n",
    "frq_cod_versao_veiculo = x_test.groupby('cod_versao_veiculo').size() / len(x_test)\n",
    "frq_uf = x_test.groupby('uf').size() / len(x_test)\n",
    "frq_cidade = x_test.groupby('cidade').size() / len(x_test)\n",
    "frq_combustivel = x_test.groupby('combustivel').size() / len(x_test)\n",
    "frq_cambio = x_test.groupby('cambio').size() / len(x_test)\n",
    "frq_qnt_opcionais = x_test.groupby('qnt_opcionais').size() / len(x_test)\n",
    "\n",
    "x_test['cod_marca_veiculo'] = x_test['cod_marca_veiculo'].map(frq_cod_marca_veiculo)\n",
    "x_test['cod_modelo_veiculo'] = x_test['cod_modelo_veiculo'].map(frq_cod_modelo_veiculo)\n",
    "x_test['cod_versao_veiculo'] = x_test['cod_versao_veiculo'].map(frq_cod_versao_veiculo)\n",
    "x_test['uf'] = x_test['uf'].map(frq_uf)\n",
    "x_test['cidade'] = x_test['cidade'].map(frq_cidade)\n",
    "x_test['combustivel'] = x_test['combustivel'].map(frq_combustivel)\n",
    "x_test['cambio'] = x_test['cambio'].map(frq_cambio)\n",
    "x_test['qnt_opcionais'] = x_test['qnt_opcionais'].map(frq_qnt_opcionais)"
   ]
  },
  {
   "cell_type": "code",
   "execution_count": 295,
   "id": "35cd828b",
   "metadata": {
    "ExecuteTime": {
     "end_time": "2022-07-31T16:52:32.071355Z",
     "start_time": "2022-07-31T16:52:32.058862Z"
    }
   },
   "outputs": [],
   "source": [
    "x_test = x_test[cols_selected]"
   ]
  },
  {
   "cell_type": "code",
   "execution_count": 296,
   "id": "f8b48716",
   "metadata": {
    "ExecuteTime": {
     "end_time": "2022-07-31T16:52:32.209847Z",
     "start_time": "2022-07-31T16:52:32.074324Z"
    }
   },
   "outputs": [],
   "source": [
    "y_pred_test = lgbm_model_tuned.predict(x_test)"
   ]
  },
  {
   "cell_type": "code",
   "execution_count": 297,
   "id": "d5562cbe",
   "metadata": {
    "ExecuteTime": {
     "end_time": "2022-07-31T16:52:32.225938Z",
     "start_time": "2022-07-31T16:52:32.211835Z"
    }
   },
   "outputs": [],
   "source": [
    "pred_column = pd.DataFrame(y_pred_test)[0].rename('predições')\n",
    "\n",
    "df_test_com_pred = pd.concat([df_test, pred_column], axis=1)"
   ]
  },
  {
   "cell_type": "code",
   "execution_count": 298,
   "id": "0da795f8",
   "metadata": {
    "ExecuteTime": {
     "end_time": "2022-07-31T16:52:32.256037Z",
     "start_time": "2022-07-31T16:52:32.227727Z"
    }
   },
   "outputs": [
    {
     "data": {
      "text/html": [
       "<div>\n",
       "<style scoped>\n",
       "    .dataframe tbody tr th:only-of-type {\n",
       "        vertical-align: middle;\n",
       "    }\n",
       "\n",
       "    .dataframe tbody tr th {\n",
       "        vertical-align: top;\n",
       "    }\n",
       "\n",
       "    .dataframe thead th {\n",
       "        text-align: right;\n",
       "    }\n",
       "</style>\n",
       "<table border=\"1\" class=\"dataframe\">\n",
       "  <thead>\n",
       "    <tr style=\"text-align: right;\">\n",
       "      <th></th>\n",
       "      <th>Model</th>\n",
       "      <th>Precision (Avg+Std)</th>\n",
       "      <th>Recall (Avg+Std)</th>\n",
       "      <th>F1-Score (Avg+Std)</th>\n",
       "      <th>ROC-AUC (Avg+Std)</th>\n",
       "      <th>Accuracy (Avg+Std)</th>\n",
       "    </tr>\n",
       "  </thead>\n",
       "  <tbody>\n",
       "    <tr>\n",
       "      <th>0</th>\n",
       "      <td>LightGBM - Final</td>\n",
       "      <td>0.923</td>\n",
       "      <td>0.116</td>\n",
       "      <td>0.206</td>\n",
       "      <td>0.541</td>\n",
       "      <td>0.307</td>\n",
       "    </tr>\n",
       "  </tbody>\n",
       "</table>\n",
       "</div>"
      ],
      "text/plain": [
       "              Model Precision (Avg+Std) Recall (Avg+Std) F1-Score (Avg+Std)  \\\n",
       "0  LightGBM - Final               0.923            0.116              0.206   \n",
       "\n",
       "  ROC-AUC (Avg+Std) Accuracy (Avg+Std)  \n",
       "0             0.541              0.307  "
      ]
     },
     "execution_count": 298,
     "metadata": {},
     "output_type": "execute_result"
    }
   ],
   "source": [
    "compute_metrics(y_test, y_pred_test, 'LightGBM - Final')"
   ]
  },
  {
   "cell_type": "code",
   "execution_count": 299,
   "id": "298be8ec",
   "metadata": {
    "ExecuteTime": {
     "end_time": "2022-07-31T16:52:32.363317Z",
     "start_time": "2022-07-31T16:52:32.258024Z"
    }
   },
   "outputs": [
    {
     "data": {
      "image/png": "[encoded data removed]",
      "text/plain": [
       "<Figure size 432x288 with 2 Axes>"
      ]
     },
     "metadata": {
      "needs_background": "light"
     },
     "output_type": "display_data"
    }
   ],
   "source": [
    "plot_cm(y_test, y_pred_test, lgbm_model_tuned)"
   ]
  },
  {
   "cell_type": "code",
   "execution_count": 300,
   "id": "6cff2607",
   "metadata": {
    "ExecuteTime": {
     "end_time": "2022-07-31T16:52:32.394190Z",
     "start_time": "2022-07-31T16:52:32.367291Z"
    },
    "scrolled": true
   },
   "outputs": [
    {
     "name": "stdout",
     "output_type": "stream",
     "text": [
      "              precision    recall  f1-score   support\n",
      "\n",
      "           0       0.24      0.97      0.39      1890\n",
      "           1       0.92      0.12      0.21      6528\n",
      "\n",
      "    accuracy                           0.31      8418\n",
      "   macro avg       0.58      0.54      0.30      8418\n",
      "weighted avg       0.77      0.31      0.25      8418\n",
      "\n"
     ]
    }
   ],
   "source": [
    "print(classification_report(y_test, y_pred_test))"
   ]
  },
  {
   "cell_type": "markdown",
   "id": "db4cbe9e",
   "metadata": {},
   "source": [
    "**Os resultados sobre os dados de teste foram inferiores se comparado aos dados de treino.**"
   ]
  }
 ],
 "metadata": {
  "hide_input": false,
  "kernelspec": {
   "display_name": "Python 3 (ipykernel)",
   "language": "python",
   "name": "python3"
  },
  "language_info": {
   "codemirror_mode": {
    "name": "ipython",
    "version": 3
   },
   "file_extension": ".py",
   "mimetype": "text/x-python",
   "name": "python",
   "nbconvert_exporter": "python",
   "pygments_lexer": "ipython3",
   "version": "3.9.7"
  },
  "nbTranslate": {
   "displayLangs": [
    "*"
   ],
   "hotkey": "alt-t",
   "langInMainMenu": true,
   "sourceLang": "en",
   "targetLang": "fr",
   "useGoogleTranslate": true
  },
  "toc": {
   "base_numbering": 1,
   "nav_menu": {},
   "number_sections": true,
   "sideBar": true,
   "skip_h1_title": false,
   "title_cell": "Table of Contents",
   "title_sidebar": "Contents",
   "toc_cell": false,
   "toc_position": {},
   "toc_section_display": true,
   "toc_window_display": false
  }
 },
 "nbformat": 4,
 "nbformat_minor": 5
}
